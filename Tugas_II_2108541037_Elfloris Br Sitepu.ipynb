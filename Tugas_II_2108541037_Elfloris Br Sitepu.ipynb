{
 "cells": [
  {
   "cell_type": "markdown",
   "id": "e495449d",
   "metadata": {},
   "source": [
    "# 5.12 List di Python\n"
   ]
  },
  {
   "cell_type": "code",
   "execution_count": 1,
   "id": "b72aafdd",
   "metadata": {},
   "outputs": [
    {
     "name": "stdout",
     "output_type": "stream",
     "text": [
      "['kucing', 'anjing', 'ayam', 'bebek']\n"
     ]
    }
   ],
   "source": [
    "hewan = ['kucing', 'anjing', 'ayam', 'bebek']\n",
    "print(hewan)"
   ]
  },
  {
   "cell_type": "code",
   "execution_count": 3,
   "id": "81866e06",
   "metadata": {},
   "outputs": [
    {
     "name": "stdout",
     "output_type": "stream",
     "text": [
      "anjing\n"
     ]
    }
   ],
   "source": [
    "print(hewan[1])"
   ]
  },
  {
   "cell_type": "code",
   "execution_count": 4,
   "id": "2e1d39cf",
   "metadata": {},
   "outputs": [
    {
     "name": "stdout",
     "output_type": "stream",
     "text": [
      "kucing\n"
     ]
    }
   ],
   "source": [
    "print(hewan[0])"
   ]
  },
  {
   "cell_type": "code",
   "execution_count": 5,
   "id": "61ca2727",
   "metadata": {},
   "outputs": [
    {
     "name": "stdout",
     "output_type": "stream",
     "text": [
      "bebek\n"
     ]
    }
   ],
   "source": [
    "print(hewan[3])"
   ]
  },
  {
   "cell_type": "code",
   "execution_count": 6,
   "id": "276df958",
   "metadata": {},
   "outputs": [
    {
     "name": "stdout",
     "output_type": "stream",
     "text": [
      "ayam\n"
     ]
    }
   ],
   "source": [
    "print(hewan[-2])"
   ]
  },
  {
   "cell_type": "code",
   "execution_count": 7,
   "id": "54b41a05",
   "metadata": {},
   "outputs": [
    {
     "name": "stdout",
     "output_type": "stream",
     "text": [
      "bebek\n"
     ]
    }
   ],
   "source": [
    "print(hewan[1+2])"
   ]
  },
  {
   "cell_type": "code",
   "execution_count": 8,
   "id": "4be724f8",
   "metadata": {},
   "outputs": [
    {
     "name": "stdout",
     "output_type": "stream",
     "text": [
      "bebek\n"
     ]
    }
   ],
   "source": [
    "print(hewan[2-3])"
   ]
  },
  {
   "cell_type": "code",
   "execution_count": 9,
   "id": "55e86b98",
   "metadata": {},
   "outputs": [
    {
     "name": "stdout",
     "output_type": "stream",
     "text": [
      "anjing\n"
     ]
    }
   ],
   "source": [
    "print(hewan[1*1])"
   ]
  },
  {
   "cell_type": "code",
   "execution_count": 11,
   "id": "f8d7f54f",
   "metadata": {},
   "outputs": [
    {
     "name": "stdout",
     "output_type": "stream",
     "text": [
      "['kucing', 'ulat', 'ayam', 'bebek']\n"
     ]
    }
   ],
   "source": [
    "hewan[1] = 'ulat'\n",
    "print(hewan)"
   ]
  },
  {
   "cell_type": "code",
   "execution_count": 12,
   "id": "522383b9",
   "metadata": {},
   "outputs": [
    {
     "name": "stdout",
     "output_type": "stream",
     "text": [
      "['kucing', 'ulat']\n"
     ]
    }
   ],
   "source": [
    "print(hewan[0:2])"
   ]
  },
  {
   "cell_type": "code",
   "execution_count": 13,
   "id": "c7de3bf4",
   "metadata": {},
   "outputs": [
    {
     "name": "stdout",
     "output_type": "stream",
     "text": [
      "['ulat', 'ayam']\n"
     ]
    }
   ],
   "source": [
    "print(hewan[1:3])"
   ]
  },
  {
   "cell_type": "code",
   "execution_count": 14,
   "id": "4011a131",
   "metadata": {},
   "outputs": [
    {
     "name": "stdout",
     "output_type": "stream",
     "text": [
      "['kucing', 'ulat', 'ayam', 'bebek']\n"
     ]
    }
   ],
   "source": [
    "print(hewan[0:4])"
   ]
  },
  {
   "cell_type": "code",
   "execution_count": 15,
   "id": "68a2e69c",
   "metadata": {},
   "outputs": [
    {
     "name": "stdout",
     "output_type": "stream",
     "text": [
      "['kucing', 'ulat', 'ayam', 'bebek']\n"
     ]
    }
   ],
   "source": [
    "#tidak merubah list\n",
    "print(hewan)"
   ]
  },
  {
   "cell_type": "code",
   "execution_count": 16,
   "id": "21ec9518",
   "metadata": {},
   "outputs": [
    {
     "name": "stdout",
     "output_type": "stream",
     "text": [
      "[]\n"
     ]
    }
   ],
   "source": [
    "print(hewan[3:0])"
   ]
  },
  {
   "cell_type": "code",
   "execution_count": 17,
   "id": "4b6f5777",
   "metadata": {},
   "outputs": [
    {
     "name": "stdout",
     "output_type": "stream",
     "text": [
      "['hitam', 'coklat', 'biru', 'kuning', 'hijau']\n"
     ]
    }
   ],
   "source": [
    "warna = ['hitam', 'coklat', 'biru', 'kuning', 'hijau']\n",
    "print(warna)"
   ]
  },
  {
   "cell_type": "code",
   "execution_count": 18,
   "id": "f104f6d5",
   "metadata": {},
   "outputs": [
    {
     "name": "stdout",
     "output_type": "stream",
     "text": [
      "kuning\n"
     ]
    }
   ],
   "source": [
    "print(warna[3])"
   ]
  },
  {
   "cell_type": "code",
   "execution_count": 20,
   "id": "d8cd2586",
   "metadata": {},
   "outputs": [
    {
     "name": "stdout",
     "output_type": "stream",
     "text": [
      "coklat\n"
     ]
    }
   ],
   "source": [
    "print(warna[1])"
   ]
  },
  {
   "cell_type": "code",
   "execution_count": 21,
   "id": "7dc40830",
   "metadata": {},
   "outputs": [
    {
     "name": "stdout",
     "output_type": "stream",
     "text": [
      "hijau\n"
     ]
    }
   ],
   "source": [
    "print(warna[2+2])"
   ]
  },
  {
   "cell_type": "code",
   "execution_count": 22,
   "id": "3f961b89",
   "metadata": {},
   "outputs": [
    {
     "name": "stdout",
     "output_type": "stream",
     "text": [
      "hijau\n"
     ]
    }
   ],
   "source": [
    "print(warna[-1])"
   ]
  },
  {
   "cell_type": "code",
   "execution_count": 23,
   "id": "88e8aa3e",
   "metadata": {},
   "outputs": [
    {
     "name": "stdout",
     "output_type": "stream",
     "text": [
      "['hitam', 'coklat', 'biru', 'silver', 'hijau']\n"
     ]
    }
   ],
   "source": [
    "warna[3] = 'silver'\n",
    "print(warna)"
   ]
  },
  {
   "cell_type": "code",
   "execution_count": 24,
   "id": "6f3a877b",
   "metadata": {},
   "outputs": [
    {
     "name": "stdout",
     "output_type": "stream",
     "text": [
      "['hitam', 'coklat', 'biru', 'silver']\n"
     ]
    }
   ],
   "source": [
    "print(warna[0:4])"
   ]
  },
  {
   "cell_type": "code",
   "execution_count": 25,
   "id": "1b1440dc",
   "metadata": {},
   "outputs": [
    {
     "name": "stdout",
     "output_type": "stream",
     "text": [
      "['biru', 'silver', 'hijau']\n"
     ]
    }
   ],
   "source": [
    "print(warna[2:5])"
   ]
  },
  {
   "cell_type": "code",
   "execution_count": 26,
   "id": "b34df896",
   "metadata": {},
   "outputs": [
    {
     "name": "stdout",
     "output_type": "stream",
     "text": [
      "[]\n"
     ]
    }
   ],
   "source": [
    "print(warna[3:0])"
   ]
  },
  {
   "cell_type": "code",
   "execution_count": 27,
   "id": "eaea1b7d",
   "metadata": {},
   "outputs": [
    {
     "name": "stdout",
     "output_type": "stream",
     "text": [
      "['hitam', 'coklat', 'biru', 'silver', 'hijau']\n"
     ]
    }
   ],
   "source": [
    "#tidak merubah list\n",
    "print(warna)"
   ]
  },
  {
   "cell_type": "code",
   "execution_count": 29,
   "id": "9e334f3a",
   "metadata": {},
   "outputs": [
    {
     "name": "stdout",
     "output_type": "stream",
     "text": [
      "['2108541037']\n"
     ]
    }
   ],
   "source": [
    "nim = ['2108541037']\n",
    "print(nim)"
   ]
  },
  {
   "cell_type": "code",
   "execution_count": 30,
   "id": "1a31c70b",
   "metadata": {},
   "outputs": [
    {
     "name": "stdout",
     "output_type": "stream",
     "text": [
      "['2108541037']\n"
     ]
    }
   ],
   "source": [
    "print(nim[0:1])"
   ]
  },
  {
   "cell_type": "code",
   "execution_count": null,
   "id": "0448dd20",
   "metadata": {},
   "outputs": [],
   "source": []
  },
  {
   "cell_type": "markdown",
   "id": "037ca734",
   "metadata": {},
   "source": [
    "# 5.13 Metoda List"
   ]
  },
  {
   "cell_type": "code",
   "execution_count": 31,
   "id": "70f9ca32",
   "metadata": {},
   "outputs": [
    {
     "name": "stdout",
     "output_type": "stream",
     "text": [
      "['Elfloris', 'Br', 'Sitepu']\n"
     ]
    }
   ],
   "source": [
    "nama = ['Elfloris', 'Br']\n",
    "nama.append('Sitepu')\n",
    "print(nama)"
   ]
  },
  {
   "cell_type": "code",
   "execution_count": 32,
   "id": "38913357",
   "metadata": {},
   "outputs": [
    {
     "name": "stdout",
     "output_type": "stream",
     "text": [
      "['Egina', 'Elfloris', 'Br', 'Sitepu']\n"
     ]
    }
   ],
   "source": [
    "nama.insert(0,'Egina')\n",
    "print(nama)"
   ]
  },
  {
   "cell_type": "code",
   "execution_count": 33,
   "id": "b0070fa7",
   "metadata": {},
   "outputs": [
    {
     "name": "stdout",
     "output_type": "stream",
     "text": [
      "['Egina', 'Elfloris', 'Sitepu']\n"
     ]
    }
   ],
   "source": [
    "nama.remove('Br')\n",
    "print(nama)"
   ]
  },
  {
   "cell_type": "code",
   "execution_count": 34,
   "id": "ff3e19ec",
   "metadata": {},
   "outputs": [
    {
     "name": "stdout",
     "output_type": "stream",
     "text": [
      "False\n"
     ]
    }
   ],
   "source": [
    "print('Br' in nama)"
   ]
  },
  {
   "cell_type": "code",
   "execution_count": 35,
   "id": "9116a17e",
   "metadata": {},
   "outputs": [
    {
     "name": "stdout",
     "output_type": "stream",
     "text": [
      "True\n"
     ]
    }
   ],
   "source": [
    "print('Egina' in nama)"
   ]
  },
  {
   "cell_type": "code",
   "execution_count": 36,
   "id": "10c58daa",
   "metadata": {},
   "outputs": [
    {
     "name": "stdout",
     "output_type": "stream",
     "text": [
      "3\n"
     ]
    }
   ],
   "source": [
    "print(len(nama))"
   ]
  },
  {
   "cell_type": "code",
   "execution_count": 37,
   "id": "fa897f6b",
   "metadata": {},
   "outputs": [
    {
     "name": "stdout",
     "output_type": "stream",
     "text": [
      "['Elista', 'Sari', 'Br', 'Sitepu']\n"
     ]
    }
   ],
   "source": [
    "nama = ['Elista', 'Sari', 'Br']\n",
    "nama.append('Sitepu')\n",
    "print(nama)"
   ]
  },
  {
   "cell_type": "code",
   "execution_count": 38,
   "id": "c6ff945d",
   "metadata": {},
   "outputs": [
    {
     "name": "stdout",
     "output_type": "stream",
     "text": [
      "['Elista', 'Sari', 'Risa', 'Br', 'Sitepu']\n"
     ]
    }
   ],
   "source": [
    "nama.insert(2,'Risa')\n",
    "print(nama)"
   ]
  },
  {
   "cell_type": "code",
   "execution_count": 39,
   "id": "263cdc99",
   "metadata": {},
   "outputs": [
    {
     "name": "stdout",
     "output_type": "stream",
     "text": [
      "['Elista', 'Sari', 'Risa', 'Sitepu']\n"
     ]
    }
   ],
   "source": [
    "nama.remove('Br')\n",
    "print(nama)"
   ]
  },
  {
   "cell_type": "code",
   "execution_count": 40,
   "id": "d750f1a9",
   "metadata": {},
   "outputs": [
    {
     "name": "stdout",
     "output_type": "stream",
     "text": [
      "False\n"
     ]
    }
   ],
   "source": [
    "print('Br' in nama)"
   ]
  },
  {
   "cell_type": "code",
   "execution_count": 41,
   "id": "d439e78e",
   "metadata": {},
   "outputs": [
    {
     "name": "stdout",
     "output_type": "stream",
     "text": [
      "False\n"
     ]
    }
   ],
   "source": [
    "print('Egina' in nama)"
   ]
  },
  {
   "cell_type": "code",
   "execution_count": 42,
   "id": "7c5d8755",
   "metadata": {},
   "outputs": [
    {
     "name": "stdout",
     "output_type": "stream",
     "text": [
      "True\n"
     ]
    }
   ],
   "source": [
    "print('Sitepu' in nama)"
   ]
  },
  {
   "cell_type": "code",
   "execution_count": 43,
   "id": "bca02834",
   "metadata": {},
   "outputs": [
    {
     "name": "stdout",
     "output_type": "stream",
     "text": [
      "4\n"
     ]
    }
   ],
   "source": [
    "print(len(nama))"
   ]
  },
  {
   "cell_type": "code",
   "execution_count": null,
   "id": "d03319b3",
   "metadata": {},
   "outputs": [],
   "source": []
  },
  {
   "cell_type": "markdown",
   "id": "7b79b4a3",
   "metadata": {},
   "source": [
    "# 5.14 For Loop"
   ]
  },
  {
   "cell_type": "code",
   "execution_count": 44,
   "id": "a5a8d1e0",
   "metadata": {},
   "outputs": [
    {
     "name": "stdout",
     "output_type": "stream",
     "text": [
      "apel\n",
      "anggur\n",
      "pisang\n",
      "semangka\n",
      "jeruk\n"
     ]
    }
   ],
   "source": [
    "buah = ['apel','anggur','pisang','semangka','jeruk']\n",
    "for jenis in buah:\n",
    "    print(jenis)"
   ]
  },
  {
   "cell_type": "code",
   "execution_count": 45,
   "id": "45d68c31",
   "metadata": {},
   "outputs": [
    {
     "name": "stdout",
     "output_type": "stream",
     "text": [
      "apel\n",
      "anggur\n",
      "pisang\n",
      "semangka\n",
      "jeruk\n"
     ]
    }
   ],
   "source": [
    "i = 0\n",
    "while i < len(buah):\n",
    "    print(buah[i])\n",
    "    i+=1"
   ]
  },
  {
   "cell_type": "code",
   "execution_count": 46,
   "id": "ca99544d",
   "metadata": {},
   "outputs": [
    {
     "name": "stdout",
     "output_type": "stream",
     "text": [
      "anggur\n",
      "semangka\n"
     ]
    }
   ],
   "source": [
    "i = 1\n",
    "while i < len(buah):\n",
    "    print(buah[i])\n",
    "    i+=2"
   ]
  },
  {
   "cell_type": "code",
   "execution_count": 47,
   "id": "c5d89a5e",
   "metadata": {},
   "outputs": [
    {
     "name": "stdout",
     "output_type": "stream",
     "text": [
      "anggur\n",
      "pisang\n",
      "semangka\n",
      "jeruk\n"
     ]
    }
   ],
   "source": [
    "i = 1\n",
    "while i < len(buah):\n",
    "    print(buah[i])\n",
    "    i+=1"
   ]
  },
  {
   "cell_type": "code",
   "execution_count": 52,
   "id": "e42b6dcb",
   "metadata": {},
   "outputs": [
    {
     "name": "stdout",
     "output_type": "stream",
     "text": [
      "pisang\n",
      "semangka\n",
      "jeruk\n"
     ]
    }
   ],
   "source": [
    "i = 2\n",
    "while i < len(buah):\n",
    "    print(buah[i])\n",
    "    i+=1"
   ]
  },
  {
   "cell_type": "code",
   "execution_count": 53,
   "id": "cc9f5263",
   "metadata": {},
   "outputs": [
    {
     "name": "stdout",
     "output_type": "stream",
     "text": [
      "burung\n",
      "lebah\n",
      "lalat\n",
      "capung\n"
     ]
    }
   ],
   "source": [
    "hewan = ['burung','lebah','lalat','capung']\n",
    "for jenis in hewan:\n",
    "    print(jenis)"
   ]
  },
  {
   "cell_type": "code",
   "execution_count": 54,
   "id": "41051f58",
   "metadata": {},
   "outputs": [
    {
     "name": "stdout",
     "output_type": "stream",
     "text": [
      "['burung', 'lebah', 'kupu kupu', 'capung']\n"
     ]
    }
   ],
   "source": [
    "hewan[2] = 'kupu kupu'\n",
    "print(hewan)"
   ]
  },
  {
   "cell_type": "code",
   "execution_count": 55,
   "id": "7cf5a76b",
   "metadata": {},
   "outputs": [
    {
     "name": "stdout",
     "output_type": "stream",
     "text": [
      "burung\n",
      "lebah\n",
      "kupu kupu\n",
      "capung\n"
     ]
    }
   ],
   "source": [
    "y = 0\n",
    "while y < len(hewan):\n",
    "    print(hewan[y])\n",
    "    y+=1"
   ]
  },
  {
   "cell_type": "code",
   "execution_count": 56,
   "id": "8a098b30",
   "metadata": {},
   "outputs": [
    {
     "name": "stdout",
     "output_type": "stream",
     "text": [
      "burung\n",
      "kupu kupu\n"
     ]
    }
   ],
   "source": [
    "y = 0\n",
    "while y < len(hewan):\n",
    "    print(hewan[y])\n",
    "    y+=2"
   ]
  },
  {
   "cell_type": "code",
   "execution_count": 57,
   "id": "846549d3",
   "metadata": {},
   "outputs": [
    {
     "name": "stdout",
     "output_type": "stream",
     "text": [
      "kupu kupu\n"
     ]
    }
   ],
   "source": [
    "y = 2\n",
    "while y < len(hewan):\n",
    "    print(hewan[y])\n",
    "    y+= 2"
   ]
  },
  {
   "cell_type": "code",
   "execution_count": 58,
   "id": "72ae3cc6",
   "metadata": {},
   "outputs": [
    {
     "name": "stdout",
     "output_type": "stream",
     "text": [
      "Elfloris\n",
      "Br\n",
      "Sitepu\n",
      "2108541037\n"
     ]
    }
   ],
   "source": [
    "nama = ['Elfloris','Br','Sitepu','2108541037']\n",
    "for jenis in nama:\n",
    "    print(jenis)"
   ]
  },
  {
   "cell_type": "code",
   "execution_count": 59,
   "id": "6e4f7ea0",
   "metadata": {},
   "outputs": [
    {
     "name": "stdout",
     "output_type": "stream",
     "text": [
      "Elfloris\n",
      "Br\n",
      "Sitepu\n",
      "2108541037\n"
     ]
    }
   ],
   "source": [
    "x = 0\n",
    "while x < len(nama):\n",
    "    print(nama[x])\n",
    "    x+=1"
   ]
  },
  {
   "cell_type": "code",
   "execution_count": 60,
   "id": "12a5278a",
   "metadata": {},
   "outputs": [
    {
     "name": "stdout",
     "output_type": "stream",
     "text": [
      "Br\n",
      "Sitepu\n",
      "2108541037\n"
     ]
    }
   ],
   "source": [
    "x = 1\n",
    "while x < len(nama):\n",
    "    print(nama[x])\n",
    "    x+=1"
   ]
  },
  {
   "cell_type": "code",
   "execution_count": null,
   "id": "4520e8b7",
   "metadata": {},
   "outputs": [],
   "source": []
  },
  {
   "cell_type": "markdown",
   "id": "13eadd20",
   "metadata": {},
   "source": [
    "# 5.15 Fungsi Range"
   ]
  },
  {
   "cell_type": "code",
   "execution_count": 61,
   "id": "5e176914",
   "metadata": {},
   "outputs": [
    {
     "name": "stdout",
     "output_type": "stream",
     "text": [
      "range(0, 5)\n"
     ]
    }
   ],
   "source": [
    "angka = range(5)\n",
    "print(angka)"
   ]
  },
  {
   "cell_type": "code",
   "execution_count": 62,
   "id": "7a3d5e3c",
   "metadata": {},
   "outputs": [
    {
     "name": "stdout",
     "output_type": "stream",
     "text": [
      "0\n",
      "1\n",
      "2\n",
      "3\n",
      "4\n"
     ]
    }
   ],
   "source": [
    "for isi in angka:\n",
    "    print(isi)"
   ]
  },
  {
   "cell_type": "code",
   "execution_count": 63,
   "id": "75e2e8d0",
   "metadata": {},
   "outputs": [
    {
     "name": "stdout",
     "output_type": "stream",
     "text": [
      "6\n",
      "7\n",
      "8\n",
      "9\n"
     ]
    }
   ],
   "source": [
    "for isi in range(6,10):\n",
    "    print(isi)"
   ]
  },
  {
   "cell_type": "code",
   "execution_count": 64,
   "id": "72faa75a",
   "metadata": {},
   "outputs": [
    {
     "name": "stdout",
     "output_type": "stream",
     "text": [
      "0\n",
      "2\n",
      "4\n"
     ]
    }
   ],
   "source": [
    "for isi in range(0,5,2):\n",
    "    print(isi)"
   ]
  },
  {
   "cell_type": "code",
   "execution_count": 65,
   "id": "06b94464",
   "metadata": {},
   "outputs": [
    {
     "name": "stdout",
     "output_type": "stream",
     "text": [
      "5\n",
      "6\n",
      "7\n",
      "8\n",
      "9\n",
      "10\n",
      "11\n",
      "12\n",
      "13\n",
      "14\n"
     ]
    }
   ],
   "source": [
    "for isi in range(5,15):\n",
    "    print(isi)"
   ]
  },
  {
   "cell_type": "code",
   "execution_count": 67,
   "id": "011677e2",
   "metadata": {},
   "outputs": [
    {
     "name": "stdout",
     "output_type": "stream",
     "text": [
      "1\n",
      "3\n",
      "5\n",
      "7\n",
      "9\n"
     ]
    }
   ],
   "source": [
    "for isi in range(1,10,2):\n",
    "    print(isi)"
   ]
  },
  {
   "cell_type": "code",
   "execution_count": 68,
   "id": "87fadbb8",
   "metadata": {},
   "outputs": [
    {
     "name": "stdout",
     "output_type": "stream",
     "text": [
      "range(0, 15)\n"
     ]
    }
   ],
   "source": [
    "angka = range(15)\n",
    "print(angka)"
   ]
  },
  {
   "cell_type": "code",
   "execution_count": 69,
   "id": "a6474eb5",
   "metadata": {},
   "outputs": [
    {
     "name": "stdout",
     "output_type": "stream",
     "text": [
      "0\n",
      "1\n",
      "2\n",
      "3\n",
      "4\n",
      "5\n",
      "6\n",
      "7\n",
      "8\n",
      "9\n",
      "10\n",
      "11\n",
      "12\n",
      "13\n",
      "14\n"
     ]
    }
   ],
   "source": [
    "for isi in angka:\n",
    "    print(isi)"
   ]
  },
  {
   "cell_type": "code",
   "execution_count": 70,
   "id": "b604f21d",
   "metadata": {},
   "outputs": [
    {
     "name": "stdout",
     "output_type": "stream",
     "text": [
      "1\n",
      "2\n",
      "3\n",
      "4\n",
      "5\n",
      "6\n",
      "7\n",
      "8\n",
      "9\n",
      "10\n",
      "11\n",
      "12\n",
      "13\n",
      "14\n",
      "15\n",
      "16\n",
      "17\n",
      "18\n",
      "19\n",
      "20\n",
      "21\n"
     ]
    }
   ],
   "source": [
    "for isi in range(1,22):\n",
    "    print(isi)"
   ]
  },
  {
   "cell_type": "code",
   "execution_count": 71,
   "id": "a2e3a54d",
   "metadata": {},
   "outputs": [
    {
     "name": "stdout",
     "output_type": "stream",
     "text": [
      "0\n",
      "3\n",
      "6\n",
      "9\n",
      "12\n",
      "15\n",
      "18\n",
      "21\n"
     ]
    }
   ],
   "source": [
    "for isi in range(0,22,3):\n",
    "    print(isi)"
   ]
  },
  {
   "cell_type": "markdown",
   "id": "a3b85420",
   "metadata": {},
   "source": [
    "# Latihan\n",
    "1. Buatlah program untuk mencari nilai terbesar didalam suatu list."
   ]
  },
  {
   "cell_type": "code",
   "execution_count": 75,
   "id": "20321f16",
   "metadata": {},
   "outputs": [
    {
     "name": "stdout",
     "output_type": "stream",
     "text": [
      "7\n"
     ]
    }
   ],
   "source": [
    "data = [1,2,3,4,5,6,7,6,5,4,3,2,1]\n",
    "terbesar = data[0]\n",
    "for i in range(len(data)):\n",
    "    if data[i] > terbesar:\n",
    "        terbesar = data[i]\n",
    "print(terbesar)"
   ]
  },
  {
   "cell_type": "code",
   "execution_count": 76,
   "id": "2554b3c6",
   "metadata": {},
   "outputs": [
    {
     "name": "stdout",
     "output_type": "stream",
     "text": [
      "7\n"
     ]
    }
   ],
   "source": [
    "data = [1,2,3,4,5,6,7,6,5,4,3,2,1]\n",
    "terbesar = data[0]\n",
    "for angka in data:\n",
    "    if angka > terbesar:\n",
    "        terbesar = angka\n",
    "print(terbesar)"
   ]
  },
  {
   "cell_type": "code",
   "execution_count": 77,
   "id": "0bcd83ce",
   "metadata": {},
   "outputs": [
    {
     "name": "stdout",
     "output_type": "stream",
     "text": [
      "16\n"
     ]
    }
   ],
   "source": [
    "data = [2,4,6,8,10,12,14,16]\n",
    "terbesar = data[0]\n",
    "for angka in data:\n",
    "    if angka > terbesar:\n",
    "        terbesar = angka\n",
    "print(terbesar)"
   ]
  },
  {
   "cell_type": "code",
   "execution_count": 81,
   "id": "0b490076",
   "metadata": {},
   "outputs": [
    {
     "name": "stdout",
     "output_type": "stream",
     "text": [
      "16\n"
     ]
    }
   ],
   "source": [
    "data = [2,4,6,8,10,12,14,16]\n",
    "terbesar = data[2]\n",
    "for angka in data:\n",
    "    if angka > terbesar:\n",
    "        terbesar = angka\n",
    "print(terbesar)"
   ]
  },
  {
   "cell_type": "code",
   "execution_count": 83,
   "id": "0fbd6c54",
   "metadata": {},
   "outputs": [
    {
     "name": "stdout",
     "output_type": "stream",
     "text": [
      "9\n"
     ]
    }
   ],
   "source": [
    "data = [1,2,3,4,5,6,7,8,9]\n",
    "terbesar = data[2]\n",
    "for angka in data:\n",
    "    if angka > terbesar:\n",
    "        terbesar = angka\n",
    "print(terbesar)"
   ]
  },
  {
   "cell_type": "markdown",
   "id": "18ab9981",
   "metadata": {},
   "source": [
    "2. Buatlah program untuk membuat anggota list menjadi unik dengan kata lain tidak ada anggota list yang kembar."
   ]
  },
  {
   "cell_type": "code",
   "execution_count": 1,
   "id": "bb52554e",
   "metadata": {},
   "outputs": [
    {
     "name": "stdout",
     "output_type": "stream",
     "text": [
      "[1, 2, 3, 4, 5, 6, 7, 8]\n"
     ]
    }
   ],
   "source": [
    "angka = [1,2,3,4,5,6,7,2,4,5,7,8]\n",
    "angka_unik = []\n",
    "for anggota in angka:\n",
    "    if anggota not in angka_unik:\n",
    "        angka_unik.append(anggota)\n",
    "print(angka_unik)"
   ]
  },
  {
   "cell_type": "code",
   "execution_count": 2,
   "id": "16736b05",
   "metadata": {},
   "outputs": [
    {
     "name": "stdout",
     "output_type": "stream",
     "text": [
      "[1, 2, 3, 4, 5, 6, 7, 8]\n"
     ]
    }
   ],
   "source": [
    "data = [0,1,2,3,4,5,2,5,1,6,7,8,8,9]\n",
    "data_unik = []\n",
    "for anggota in angka:\n",
    "    if anggota not in data_unik:\n",
    "        data_unik.append(anggota)\n",
    "print(data_unik)"
   ]
  },
  {
   "cell_type": "code",
   "execution_count": 3,
   "id": "305a56d4",
   "metadata": {},
   "outputs": [
    {
     "name": "stdout",
     "output_type": "stream",
     "text": [
      "[1, 2, 3, 5, 7, 4, 8, 9]\n"
     ]
    }
   ],
   "source": [
    "angka = [1,2,3,3,5,7,4,8,9,9]\n",
    "angka_unik = []\n",
    "for anggota in angka:\n",
    "    if anggota not in angka_unik:\n",
    "        angka_unik.append(anggota)\n",
    "print(angka_unik)"
   ]
  },
  {
   "cell_type": "code",
   "execution_count": 4,
   "id": "a64ecd07",
   "metadata": {},
   "outputs": [
    {
     "name": "stdout",
     "output_type": "stream",
     "text": [
      "[5, 1, 2, 3, 7, 4, 8, 9]\n"
     ]
    }
   ],
   "source": [
    "angka_unik = [5]\n",
    "for anggota in angka:\n",
    "    if anggota not in angka_unik:\n",
    "        angka_unik.append(anggota)\n",
    "print(angka_unik)"
   ]
  },
  {
   "cell_type": "code",
   "execution_count": 5,
   "id": "9602f1fc",
   "metadata": {},
   "outputs": [
    {
     "name": "stdout",
     "output_type": "stream",
     "text": [
      "[-8, 1, 2, 3, 5, 7, 4, 8, 9]\n"
     ]
    }
   ],
   "source": [
    "data_unik = [-8]\n",
    "for anggota in angka:\n",
    "    if anggota not in data_unik:\n",
    "        data_unik.append(anggota)\n",
    "print(data_unik)"
   ]
  },
  {
   "cell_type": "code",
   "execution_count": null,
   "id": "7d179683",
   "metadata": {},
   "outputs": [],
   "source": []
  },
  {
   "cell_type": "markdown",
   "id": "88163b69",
   "metadata": {},
   "source": [
    "# 5.16 List 2 Dimensi"
   ]
  },
  {
   "cell_type": "code",
   "execution_count": 7,
   "id": "1ee676cb",
   "metadata": {},
   "outputs": [
    {
     "name": "stdout",
     "output_type": "stream",
     "text": [
      "[[1, 2, 3, 4], [5, 6, 7, 8], [9, 10, 11, 12], [13, 14, 15, 16]]\n"
     ]
    }
   ],
   "source": [
    "matrik = [\n",
    "    [1,2,3,4],\n",
    "    [5,6,7,8],\n",
    "    [9,10,11,12],\n",
    "    [13,14,15,16]\n",
    "]\n",
    "print(matrik)"
   ]
  },
  {
   "cell_type": "code",
   "execution_count": 8,
   "id": "3ed09285",
   "metadata": {},
   "outputs": [
    {
     "data": {
      "text/plain": [
       "[5, 6, 7, 8]"
      ]
     },
     "execution_count": 8,
     "metadata": {},
     "output_type": "execute_result"
    }
   ],
   "source": [
    "matrik[1]"
   ]
  },
  {
   "cell_type": "code",
   "execution_count": 9,
   "id": "905f83e4",
   "metadata": {},
   "outputs": [
    {
     "data": {
      "text/plain": [
       "7"
      ]
     },
     "execution_count": 9,
     "metadata": {},
     "output_type": "execute_result"
    }
   ],
   "source": [
    "matrik[1][2]"
   ]
  },
  {
   "cell_type": "code",
   "execution_count": 10,
   "id": "2a8b4e9a",
   "metadata": {},
   "outputs": [
    {
     "data": {
      "text/plain": [
       "8"
      ]
     },
     "execution_count": 10,
     "metadata": {},
     "output_type": "execute_result"
    }
   ],
   "source": [
    "matrik[1][3]"
   ]
  },
  {
   "cell_type": "code",
   "execution_count": 11,
   "id": "b99c93fd",
   "metadata": {},
   "outputs": [
    {
     "name": "stdout",
     "output_type": "stream",
     "text": [
      "50\n"
     ]
    }
   ],
   "source": [
    "matrik[1][2] = 50\n",
    "print(matrik[1][2])"
   ]
  },
  {
   "cell_type": "code",
   "execution_count": 12,
   "id": "76316f7b",
   "metadata": {},
   "outputs": [
    {
     "data": {
      "text/plain": [
       "[[1, 2, 3, 4], [5, 6, 50, 8], [9, 10, 11, 12], [13, 14, 15, 16]]"
      ]
     },
     "execution_count": 12,
     "metadata": {},
     "output_type": "execute_result"
    }
   ],
   "source": [
    "matrik"
   ]
  },
  {
   "cell_type": "code",
   "execution_count": 13,
   "id": "1db5aef4",
   "metadata": {},
   "outputs": [
    {
     "name": "stdout",
     "output_type": "stream",
     "text": [
      "[[2, 4, 6, 8], [10, 12, 14, 16], [18, 20, 22, 24]]\n"
     ]
    }
   ],
   "source": [
    "matrik = [\n",
    "    [2,4,6,8],\n",
    "    [10,12,14,16],\n",
    "    [18,20,22,24]\n",
    "]\n",
    "print(matrik)"
   ]
  },
  {
   "cell_type": "code",
   "execution_count": 14,
   "id": "142667ff",
   "metadata": {},
   "outputs": [
    {
     "data": {
      "text/plain": [
       "[18, 20, 22, 24]"
      ]
     },
     "execution_count": 14,
     "metadata": {},
     "output_type": "execute_result"
    }
   ],
   "source": [
    "matrik[2]"
   ]
  },
  {
   "cell_type": "code",
   "execution_count": 15,
   "id": "3fd30c72",
   "metadata": {},
   "outputs": [
    {
     "data": {
      "text/plain": [
       "24"
      ]
     },
     "execution_count": 15,
     "metadata": {},
     "output_type": "execute_result"
    }
   ],
   "source": [
    "matrik[2][3]"
   ]
  },
  {
   "cell_type": "code",
   "execution_count": 16,
   "id": "faeab756",
   "metadata": {},
   "outputs": [
    {
     "name": "stdout",
     "output_type": "stream",
     "text": [
      "[2, 4, 6, 8]\n",
      "[10, 12, 14, 16]\n",
      "[18, 20, 22, 24]\n"
     ]
    }
   ],
   "source": [
    "for baris in matrik:\n",
    "    print(baris)"
   ]
  },
  {
   "cell_type": "code",
   "execution_count": 18,
   "id": "d54c9c34",
   "metadata": {},
   "outputs": [
    {
     "name": "stdout",
     "output_type": "stream",
     "text": [
      "18\n",
      "20\n",
      "22\n",
      "24\n"
     ]
    }
   ],
   "source": [
    "for kolom in baris:\n",
    "    print(kolom)"
   ]
  },
  {
   "cell_type": "code",
   "execution_count": 19,
   "id": "947ad279",
   "metadata": {},
   "outputs": [
    {
     "name": "stdout",
     "output_type": "stream",
     "text": [
      "21\n"
     ]
    }
   ],
   "source": [
    "matrik[1][3] = 21\n",
    "print(matrik[1][3])"
   ]
  },
  {
   "cell_type": "code",
   "execution_count": 20,
   "id": "cc92d91b",
   "metadata": {},
   "outputs": [
    {
     "data": {
      "text/plain": [
       "[[2, 4, 6, 8], [10, 12, 14, 21], [18, 20, 22, 24]]"
      ]
     },
     "execution_count": 20,
     "metadata": {},
     "output_type": "execute_result"
    }
   ],
   "source": [
    "matrik"
   ]
  },
  {
   "cell_type": "code",
   "execution_count": null,
   "id": "255ee34e",
   "metadata": {},
   "outputs": [],
   "source": []
  },
  {
   "cell_type": "markdown",
   "id": "bdb7ef5a",
   "metadata": {},
   "source": [
    "# 5.17 Tuples"
   ]
  },
  {
   "cell_type": "code",
   "execution_count": 21,
   "id": "25fd798f",
   "metadata": {},
   "outputs": [],
   "source": [
    "angka = (0,1,2,3,3,4,5,6,9)"
   ]
  },
  {
   "cell_type": "code",
   "execution_count": 22,
   "id": "fbbfc117",
   "metadata": {},
   "outputs": [
    {
     "name": "stdout",
     "output_type": "stream",
     "text": [
      "1\n"
     ]
    }
   ],
   "source": [
    "print(angka[1])"
   ]
  },
  {
   "cell_type": "code",
   "execution_count": 23,
   "id": "cf8dabb9",
   "metadata": {},
   "outputs": [
    {
     "name": "stdout",
     "output_type": "stream",
     "text": [
      "3\n"
     ]
    }
   ],
   "source": [
    "print(angka[4])"
   ]
  },
  {
   "cell_type": "code",
   "execution_count": 24,
   "id": "ef930ee3",
   "metadata": {},
   "outputs": [
    {
     "name": "stdout",
     "output_type": "stream",
     "text": [
      "(0, 1)\n"
     ]
    }
   ],
   "source": [
    "print(angka[0:2])"
   ]
  },
  {
   "cell_type": "code",
   "execution_count": 25,
   "id": "21278176",
   "metadata": {},
   "outputs": [
    {
     "name": "stdout",
     "output_type": "stream",
     "text": [
      "(0, 1, 2)\n"
     ]
    }
   ],
   "source": [
    "print(angka[0:3])"
   ]
  },
  {
   "cell_type": "code",
   "execution_count": 26,
   "id": "32174350",
   "metadata": {},
   "outputs": [
    {
     "name": "stdout",
     "output_type": "stream",
     "text": [
      "0\n",
      "1\n",
      "2\n"
     ]
    }
   ],
   "source": [
    "for isi in angka[0:3]:\n",
    "    print(isi)"
   ]
  },
  {
   "cell_type": "code",
   "execution_count": 27,
   "id": "9e476418",
   "metadata": {},
   "outputs": [
    {
     "name": "stdout",
     "output_type": "stream",
     "text": [
      "0\n",
      "1\n",
      "2\n",
      "3\n",
      "3\n"
     ]
    }
   ],
   "source": [
    "for isi in angka[0:5]:\n",
    "    print(isi)"
   ]
  },
  {
   "cell_type": "code",
   "execution_count": 28,
   "id": "134e27f3",
   "metadata": {},
   "outputs": [
    {
     "name": "stdout",
     "output_type": "stream",
     "text": [
      "1\n",
      "2\n",
      "3\n",
      "3\n"
     ]
    }
   ],
   "source": [
    "for isi in angka[1:5]:\n",
    "    print(isi)"
   ]
  },
  {
   "cell_type": "code",
   "execution_count": 29,
   "id": "a3deab58",
   "metadata": {},
   "outputs": [
    {
     "name": "stdout",
     "output_type": "stream",
     "text": [
      "2\n",
      "3\n"
     ]
    }
   ],
   "source": [
    "for isi in angka[2:4]:\n",
    "    print(isi)"
   ]
  },
  {
   "cell_type": "code",
   "execution_count": 32,
   "id": "3fc1d7a9",
   "metadata": {},
   "outputs": [],
   "source": [
    "nim = (2,1,0,8,5,4,1,0,3,7)"
   ]
  },
  {
   "cell_type": "code",
   "execution_count": 36,
   "id": "a2519138",
   "metadata": {},
   "outputs": [
    {
     "name": "stdout",
     "output_type": "stream",
     "text": [
      "4\n"
     ]
    }
   ],
   "source": [
    "print(nim[5])"
   ]
  },
  {
   "cell_type": "code",
   "execution_count": 37,
   "id": "f8aa1a45",
   "metadata": {},
   "outputs": [
    {
     "name": "stdout",
     "output_type": "stream",
     "text": [
      "0\n"
     ]
    }
   ],
   "source": [
    "print(nim[2])"
   ]
  },
  {
   "cell_type": "code",
   "execution_count": 38,
   "id": "ce5db275",
   "metadata": {},
   "outputs": [
    {
     "name": "stdout",
     "output_type": "stream",
     "text": [
      "(0, 3, 7)\n"
     ]
    }
   ],
   "source": [
    "print(nim[7:10])"
   ]
  },
  {
   "cell_type": "code",
   "execution_count": 39,
   "id": "66210e45",
   "metadata": {},
   "outputs": [
    {
     "name": "stdout",
     "output_type": "stream",
     "text": [
      "0\n",
      "3\n",
      "7\n"
     ]
    }
   ],
   "source": [
    "for isi in nim[7:10]:\n",
    "    print(isi)"
   ]
  },
  {
   "cell_type": "code",
   "execution_count": null,
   "id": "1bd05dcb",
   "metadata": {},
   "outputs": [],
   "source": []
  },
  {
   "cell_type": "markdown",
   "id": "7ea3d737",
   "metadata": {},
   "source": [
    "# 5.18 Dictionaries"
   ]
  },
  {
   "cell_type": "code",
   "execution_count": 40,
   "id": "4c48208d",
   "metadata": {},
   "outputs": [],
   "source": [
    "data_orang = {\n",
    "    \"nama\" : \"Elfloris Sitepu\",\n",
    "    \"umur\" : 18,\n",
    "    \"apakah_singel\" : False\n",
    "}"
   ]
  },
  {
   "cell_type": "code",
   "execution_count": 41,
   "id": "7940d507",
   "metadata": {},
   "outputs": [
    {
     "name": "stdout",
     "output_type": "stream",
     "text": [
      "Elfloris Sitepu\n"
     ]
    }
   ],
   "source": [
    "print(data_orang['nama'])"
   ]
  },
  {
   "cell_type": "code",
   "execution_count": 44,
   "id": "8c56f0c6",
   "metadata": {},
   "outputs": [
    {
     "name": "stdout",
     "output_type": "stream",
     "text": [
      "Elfloris Sitepu\n"
     ]
    }
   ],
   "source": [
    "print(data_orang.get('nama'))"
   ]
  },
  {
   "cell_type": "code",
   "execution_count": 45,
   "id": "74efcb0f",
   "metadata": {},
   "outputs": [
    {
     "name": "stdout",
     "output_type": "stream",
     "text": [
      "14-3-2004\n"
     ]
    }
   ],
   "source": [
    "print(data_orang.get('tanggal_lahir', '14-3-2004'))"
   ]
  },
  {
   "cell_type": "code",
   "execution_count": 46,
   "id": "8ebe5234",
   "metadata": {},
   "outputs": [
    {
     "name": "stdout",
     "output_type": "stream",
     "text": [
      "{'nama': 'Elfloris Sitepu', 'umur': 18, 'apakah_singel': False}\n"
     ]
    }
   ],
   "source": [
    "print(data_orang)"
   ]
  },
  {
   "cell_type": "code",
   "execution_count": 48,
   "id": "f6a75a1f",
   "metadata": {},
   "outputs": [],
   "source": [
    "data_orang['alamat'] = 'medan'"
   ]
  },
  {
   "cell_type": "code",
   "execution_count": 50,
   "id": "1360658e",
   "metadata": {},
   "outputs": [
    {
     "name": "stdout",
     "output_type": "stream",
     "text": [
      "medan\n"
     ]
    }
   ],
   "source": [
    "print(data_orang[\"alamat\"])"
   ]
  },
  {
   "cell_type": "code",
   "execution_count": 51,
   "id": "60402b89",
   "metadata": {},
   "outputs": [
    {
     "name": "stdout",
     "output_type": "stream",
     "text": [
      "{'nama': 'Elfloris Sitepu', 'umur': 18, 'apakah_singel': False, 'alamat': 'medan'}\n"
     ]
    }
   ],
   "source": [
    "print(data_orang)"
   ]
  },
  {
   "cell_type": "code",
   "execution_count": null,
   "id": "6497bd0a",
   "metadata": {},
   "outputs": [],
   "source": []
  },
  {
   "cell_type": "markdown",
   "id": "476ae2e9",
   "metadata": {},
   "source": [
    "# Latihan\n",
    "Buatlah progam untuk merubah nomor HP yang tadinya berupa angka menjadi sebutan bilangan tersebut. Misalnya angka 0812 akan menjadi nol delapan satu dua."
   ]
  },
  {
   "cell_type": "code",
   "execution_count": 52,
   "id": "4f62206f",
   "metadata": {},
   "outputs": [],
   "source": [
    "angka = {\n",
    "    \"0\" : \"nol\",\n",
    "    \"1\" : \"satu\",\n",
    "    \"2\" : \"dua\",\n",
    "    \"3\" : \"tiga\",\n",
    "    \"4\" : \"empat\",\n",
    "    \"5\" : \"lima\",\n",
    "    \"6\" : \"enam\",\n",
    "    \"7\" : \"tujuh\",\n",
    "    \"8\" : \"delapan\",\n",
    "    \"9\" : \"sembilan\"\n",
    "}"
   ]
  },
  {
   "cell_type": "code",
   "execution_count": 53,
   "id": "18982ddd",
   "metadata": {},
   "outputs": [
    {
     "name": "stdout",
     "output_type": "stream",
     "text": [
      "Masukkan nomor HP anda 081286934334\n",
      "nol delapan satu dua delapan enam sembilan tiga empat tiga tiga empat \n"
     ]
    }
   ],
   "source": [
    "nomor_HP = input (\"Masukkan nomor HP anda \")\n",
    "nomor_angka = \"\"\n",
    "for isi in nomor_HP:\n",
    "    nomor_angka += angka.get(isi) + \" \"\n",
    "print(nomor_angka)"
   ]
  },
  {
   "cell_type": "code",
   "execution_count": 54,
   "id": "ce00c680",
   "metadata": {},
   "outputs": [
    {
     "name": "stdout",
     "output_type": "stream",
     "text": [
      "Masukkan nomor HP anda 081276455143\n",
      "nol delapan satu dua tujuh enam empat lima lima satu empat tiga \n"
     ]
    }
   ],
   "source": [
    "nomor_HP = input (\"Masukkan nomor HP anda \")\n",
    "nomor_angka = \"\"\n",
    "for isi in nomor_HP:\n",
    "    nomor_angka += angka.get(isi) + \" \"\n",
    "print(nomor_angka)"
   ]
  },
  {
   "cell_type": "code",
   "execution_count": null,
   "id": "68a3fe1f",
   "metadata": {},
   "outputs": [],
   "source": []
  },
  {
   "cell_type": "markdown",
   "id": "52226d9e",
   "metadata": {},
   "source": [
    "# 5.19 Fungsi dalam Python"
   ]
  },
  {
   "cell_type": "code",
   "execution_count": 75,
   "id": "3bac7329",
   "metadata": {},
   "outputs": [],
   "source": [
    "def full_name (first_name,last_name):\n",
    "    print (f\"Nama lengkapnya adalah {first_name} {last_name}\")"
   ]
  },
  {
   "cell_type": "code",
   "execution_count": 76,
   "id": "e30b74c0",
   "metadata": {},
   "outputs": [
    {
     "name": "stdout",
     "output_type": "stream",
     "text": [
      "Nama depanmu adalah  Elfloris\n",
      "Nama belakangmu adalah  Sitepu\n",
      "Nama lengkapnya adalah  Elfloris  Sitepu\n"
     ]
    }
   ],
   "source": [
    "first_name = input(\"Nama depanmu adalah \")\n",
    "last_name = input(\"Nama belakangmu adalah \")\n",
    "full_name (first_name, last_name)"
   ]
  },
  {
   "cell_type": "code",
   "execution_count": 78,
   "id": "2f55804a",
   "metadata": {},
   "outputs": [],
   "source": [
    "def full_name (name,nim):\n",
    "    print (f\"Nama lengkapnya adalah {name} {nim}\")"
   ]
  },
  {
   "cell_type": "code",
   "execution_count": 79,
   "id": "bd617c11",
   "metadata": {},
   "outputs": [
    {
     "name": "stdout",
     "output_type": "stream",
     "text": [
      "Siapa nama anda?  Elfloris\n",
      "Berapa nim kamu?  2108541037\n",
      "Nama lengkapnya adalah  Elfloris  2108541037\n"
     ]
    }
   ],
   "source": [
    "name = input(\"Siapa nama anda? \")\n",
    "nim = input(\"Berapa nim kamu? \")\n",
    "full_name (name,nim)"
   ]
  },
  {
   "cell_type": "code",
   "execution_count": null,
   "id": "ac452335",
   "metadata": {},
   "outputs": [],
   "source": []
  },
  {
   "cell_type": "markdown",
   "id": "d3e03389",
   "metadata": {},
   "source": [
    "# 5.19.1 Tugas Fungsi pada Python"
   ]
  },
  {
   "cell_type": "code",
   "execution_count": 80,
   "id": "0e9aa129",
   "metadata": {},
   "outputs": [],
   "source": [
    "def waktu_sampai(jarak,kecepatan):\n",
    "    waktu = jarak/kecepatan\n",
    "    print(waktu)"
   ]
  },
  {
   "cell_type": "code",
   "execution_count": 81,
   "id": "8ea14fee",
   "metadata": {},
   "outputs": [],
   "source": [
    "def waktu_tempuh(jarak,kecepatan):\n",
    "    waktu = jarak/kecepatan\n",
    "    return waktu"
   ]
  },
  {
   "cell_type": "code",
   "execution_count": 82,
   "id": "e33ce5c1",
   "metadata": {},
   "outputs": [
    {
     "name": "stdout",
     "output_type": "stream",
     "text": [
      "1.5\n"
     ]
    }
   ],
   "source": [
    "waktu_sampai(60,40)"
   ]
  },
  {
   "cell_type": "code",
   "execution_count": 83,
   "id": "a7d7dca2",
   "metadata": {},
   "outputs": [
    {
     "data": {
      "text/plain": [
       "1.5"
      ]
     },
     "execution_count": 83,
     "metadata": {},
     "output_type": "execute_result"
    }
   ],
   "source": [
    "waktu_tempuh(60,40)"
   ]
  },
  {
   "cell_type": "code",
   "execution_count": 84,
   "id": "a580376c",
   "metadata": {},
   "outputs": [
    {
     "name": "stdout",
     "output_type": "stream",
     "text": [
      "1.5\n",
      "None\n"
     ]
    }
   ],
   "source": [
    "a = waktu_sampai(60,40)\n",
    "print(a)"
   ]
  },
  {
   "cell_type": "code",
   "execution_count": 85,
   "id": "af2be642",
   "metadata": {},
   "outputs": [
    {
     "name": "stdout",
     "output_type": "stream",
     "text": [
      "1.5\n"
     ]
    }
   ],
   "source": [
    "b = waktu_tempuh(60,40)\n",
    "print(b)"
   ]
  },
  {
   "cell_type": "code",
   "execution_count": 86,
   "id": "013fd95b",
   "metadata": {},
   "outputs": [
    {
     "name": "stdout",
     "output_type": "stream",
     "text": [
      "60.0\n",
      "None\n"
     ]
    }
   ],
   "source": [
    "c = waktu_sampai(120,2)\n",
    "print(c)"
   ]
  },
  {
   "cell_type": "code",
   "execution_count": 87,
   "id": "b16d53f9",
   "metadata": {},
   "outputs": [
    {
     "name": "stdout",
     "output_type": "stream",
     "text": [
      "50.0\n"
     ]
    }
   ],
   "source": [
    "d = waktu_tempuh(150,3)\n",
    "print(d)"
   ]
  },
  {
   "cell_type": "code",
   "execution_count": null,
   "id": "117d19d8",
   "metadata": {},
   "outputs": [],
   "source": []
  },
  {
   "cell_type": "markdown",
   "id": "18e59d5d",
   "metadata": {},
   "source": [
    "# Latihan\n",
    " Buatlah program yang menggunakan fungsi Python untuk menghitung luas segitiga, lingkaran, persegi dan persegi panjang. Selain itu berikan peringatan bagi bidang lain yang tidak termasuk perhitungan."
   ]
  },
  {
   "cell_type": "code",
   "execution_count": 88,
   "id": "6e4f5547",
   "metadata": {},
   "outputs": [],
   "source": [
    "import numpy as np"
   ]
  },
  {
   "cell_type": "code",
   "execution_count": 89,
   "id": "5595c896",
   "metadata": {},
   "outputs": [],
   "source": [
    "def luas_segitiga(alas,tinggi):\n",
    "    luas = (1/2)*alas*tinggi\n",
    "    return luas\n",
    "def luas_lingkaran(jari_jari):\n",
    "    luas = np.pi*(jari_jari**2)\n",
    "    return luas\n",
    "def luas_persegi(sisi):\n",
    "    luas = sisi**2\n",
    "    return luas\n",
    "def luas_persegi_panjang(panjang,lebar):\n",
    "    luas = panjang*lebar\n",
    "    return luas"
   ]
  },
  {
   "cell_type": "code",
   "execution_count": 94,
   "id": "143646ea",
   "metadata": {},
   "outputs": [
    {
     "name": "stdout",
     "output_type": "stream",
     "text": [
      "Tulis jenis bidangnya Persegi panjang\n",
      "Berapakah panjangnya? 15\n",
      "Berapakah lebarnya? 10\n",
      "Luas Persegi panjang adalah 150.0\n"
     ]
    }
   ],
   "source": [
    "jenis_bidang = input(\"Tulis jenis bidangnya \")\n",
    "if jenis_bidang.upper() == 'SEGITIGA':\n",
    "    alas = float(input('Berapakah panjang alasnya? '))\n",
    "    tinggi = float(input('Berapakah tingginya? '))\n",
    "    luas = luas_segitiga(alas,tinggi)\n",
    "    print(f\"Luas {jenis_bidang} adalah {luas}\")\n",
    "elif jenis_bidang.upper() == 'LINGKARAN':\n",
    "    jari_jari = float(input('Berapakah panjang jari-jarinya? '))\n",
    "    luas = luas_lingkaran(jari_jari)\n",
    "    print(f\"Luas {jenis_bidang} adalah {luas}\")\n",
    "elif (jenis_bidang.upper() == 'PERSEGI') or (jenis_bidang.upper() == 'BUJUR SANGKAR'):\n",
    "    sisi = float(input('Berapakah panjang sisinya? '))\n",
    "    luas = luas_persegi(sisi)\n",
    "    print(f\"Luas {jenis_bidang} adalah {luas}\")\n",
    "elif jenis_bidang.upper() == 'PERSEGI PANJANG':\n",
    "    panjang = float(input('Berapakah panjangnya? '))\n",
    "    lebar = float(input('Berapakah lebarnya? '))\n",
    "    luas = luas_persegi_panjang(panjang,lebar)\n",
    "    print(f\"Luas {jenis_bidang} adalah {luas}\")\n",
    "else : \n",
    "    print(f\"Maaf bidang {jenis_bidang} yang anda masukkan tidak ada.\")\n",
    "    print(\"pilihan cuma SEGITIGA, LINGKARAN, PERSEGI dan PERSEGI PANJANG.\")\n",
    "    print('Terimakasih!')"
   ]
  },
  {
   "cell_type": "code",
   "execution_count": null,
   "id": "b760a827",
   "metadata": {},
   "outputs": [],
   "source": []
  },
  {
   "cell_type": "code",
   "execution_count": null,
   "id": "201972e4",
   "metadata": {},
   "outputs": [],
   "source": []
  }
 ],
 "metadata": {
  "kernelspec": {
   "display_name": "Python 3 (ipykernel)",
   "language": "python",
   "name": "python3"
  },
  "language_info": {
   "codemirror_mode": {
    "name": "ipython",
    "version": 3
   },
   "file_extension": ".py",
   "mimetype": "text/x-python",
   "name": "python",
   "nbconvert_exporter": "python",
   "pygments_lexer": "ipython3",
   "version": "3.9.7"
  }
 },
 "nbformat": 4,
 "nbformat_minor": 5
}
