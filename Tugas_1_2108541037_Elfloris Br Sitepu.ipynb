{
 "cells": [
  {
   "cell_type": "markdown",
   "id": "844f2131",
   "metadata": {},
   "source": [
    "# 5.1 Print \n"
   ]
  },
  {
   "cell_type": "code",
   "execution_count": 1,
   "id": "590f9d42",
   "metadata": {},
   "outputs": [
    {
     "name": "stdout",
     "output_type": "stream",
     "text": [
      "Ini Kelas Algoritma\n"
     ]
    }
   ],
   "source": [
    "print('Ini Kelas Algoritma')"
   ]
  },
  {
   "cell_type": "code",
   "execution_count": 2,
   "id": "2c992011",
   "metadata": {},
   "outputs": [
    {
     "name": "stdout",
     "output_type": "stream",
     "text": [
      "Cuaca Hari Ini Sangat Cerah\n"
     ]
    }
   ],
   "source": [
    "print(\"Cuaca Hari Ini Sangat Cerah\")"
   ]
  },
  {
   "cell_type": "code",
   "execution_count": 3,
   "id": "288faea9",
   "metadata": {},
   "outputs": [
    {
     "name": "stdout",
     "output_type": "stream",
     "text": [
      "I can't give up!\n"
     ]
    }
   ],
   "source": [
    "print(\"I can't give up!\")"
   ]
  },
  {
   "cell_type": "code",
   "execution_count": 4,
   "id": "9cb756eb",
   "metadata": {},
   "outputs": [
    {
     "name": "stdout",
     "output_type": "stream",
     "text": [
      "She is very \"SMART\"\n"
     ]
    }
   ],
   "source": [
    "print('She is very \"SMART\"')"
   ]
  },
  {
   "cell_type": "code",
   "execution_count": 5,
   "id": "a542e62f",
   "metadata": {},
   "outputs": [
    {
     "name": "stdout",
     "output_type": "stream",
     "text": [
      "15000\n"
     ]
    }
   ],
   "source": [
    "uang_kakak = 5000\n",
    "uang_adik = 10000\n",
    "print(uang_kakak + uang_adik)"
   ]
  },
  {
   "cell_type": "code",
   "execution_count": 6,
   "id": "e1410556",
   "metadata": {},
   "outputs": [
    {
     "name": "stdout",
     "output_type": "stream",
     "text": [
      "22\n",
      "25\n",
      "550\n"
     ]
    }
   ],
   "source": [
    "pria = 22\n",
    "wanita = 25\n",
    "print(pria)\n",
    "print(wanita)\n",
    "print(pria*wanita)"
   ]
  },
  {
   "cell_type": "code",
   "execution_count": 7,
   "id": "21d200ab",
   "metadata": {},
   "outputs": [
    {
     "name": "stdout",
     "output_type": "stream",
     "text": [
      "Elfloris Br Sitepu\n"
     ]
    }
   ],
   "source": [
    "nama_depan = 'Elfloris'\n",
    "nama_tengah = ' Br'\n",
    "nama_belakang = ' Sitepu'\n",
    "print(nama_depan + nama_tengah + nama_belakang)"
   ]
  },
  {
   "cell_type": "code",
   "execution_count": 8,
   "id": "a717d171",
   "metadata": {},
   "outputs": [
    {
     "name": "stdout",
     "output_type": "stream",
     "text": [
      "2108541037_Elfloris\n"
     ]
    }
   ],
   "source": [
    "nama_depan = '2108541037_'\n",
    "nama_belakang = 'Elfloris'\n",
    "print(nama_depan + nama_belakang)"
   ]
  },
  {
   "cell_type": "code",
   "execution_count": 9,
   "id": "4a93b7e9",
   "metadata": {},
   "outputs": [
    {
     "name": "stdout",
     "output_type": "stream",
     "text": [
      "Elfloris  Sitepu\n"
     ]
    }
   ],
   "source": [
    "nama_depan = 'Elfloris'\n",
    "nama_tengah = ' '\n",
    "nama_belakang = ' Sitepu'\n",
    "print(nama_depan + nama_tengah + nama_belakang)"
   ]
  },
  {
   "cell_type": "markdown",
   "id": "8b6f164c",
   "metadata": {},
   "source": [
    "# 5.2 Input"
   ]
  },
  {
   "cell_type": "code",
   "execution_count": 10,
   "id": "05ac843c",
   "metadata": {},
   "outputs": [
    {
     "name": "stdout",
     "output_type": "stream",
     "text": [
      "Siapakah nama anda? Elfloris\n",
      "Apa kegiatan anda sekarang, Elfloris? belajar\n",
      "Semangat belajar nya yah, Elfloris!\n"
     ]
    }
   ],
   "source": [
    "nama = input(\"Siapakah nama anda? \")\n",
    "kegiatan = input('Apa kegiatan anda sekarang, ' + nama +\"? \")\n",
    "print(\"Semangat \"+ kegiatan +\" nya yah, \" + nama + \"!\")"
   ]
  },
  {
   "cell_type": "code",
   "execution_count": 11,
   "id": "94a0e605",
   "metadata": {},
   "outputs": [
    {
     "name": "stdout",
     "output_type": "stream",
     "text": [
      "Siapakah nama kamu? Elfloris\n",
      "Apa status kamu sekarang, Elfloris? mahasiswa\n",
      "Mahasiswa dimana, Elfloris? Universitas Udayana\n",
      "Elfloris adalah mahasiswa di Universitas Udayana. \n"
     ]
    }
   ],
   "source": [
    "nama = input (\"Siapakah nama kamu? \")\n",
    "status = input (\"Apa status kamu sekarang, \" + nama +\"? \")\n",
    "institusi = input (\"Mahasiswa dimana, \" + nama +\"? \")\n",
    "print(nama +\" adalah \" + status +\" di \" + institusi +\". \")"
   ]
  },
  {
   "cell_type": "code",
   "execution_count": 12,
   "id": "1909cd1c",
   "metadata": {},
   "outputs": [
    {
     "name": "stdout",
     "output_type": "stream",
     "text": [
      "Siapakah nama anda? Elfloris Br Sitepu\n",
      "Berapakah nim anda, Elfloris Br Sitepu? 2108541037\n",
      "Elfloris Br Sitepu dengan nim 2108541037 .\n"
     ]
    }
   ],
   "source": [
    "nama = input(\"Siapakah nama anda? \")\n",
    "nim = input(\"Berapakah nim anda, \" + nama +\"? \")\n",
    "print(nama +\" dengan nim \" + nim +\" .\")"
   ]
  },
  {
   "cell_type": "code",
   "execution_count": 13,
   "id": "61dac3c4",
   "metadata": {},
   "outputs": [
    {
     "name": "stdout",
     "output_type": "stream",
     "text": [
      "Siapakah nama anda? Elfloris\n",
      "Dimanakah anda tinggal, Elfloris? Medan\n",
      "Elfloris tinggal di Medan. \n"
     ]
    }
   ],
   "source": [
    "nama = input(\"Siapakah nama anda? \")\n",
    "alamat = input(\"Dimanakah anda tinggal, \" + nama +\"? \")\n",
    "print(nama +\" tinggal di \" + alamat +\". \")"
   ]
  },
  {
   "cell_type": "markdown",
   "id": "311debf0",
   "metadata": {},
   "source": [
    "# 5.3 Tipe Data pada Python\n",
    "Ada tiga tipe data pada python "
   ]
  },
  {
   "cell_type": "code",
   "execution_count": 14,
   "id": "53239b37",
   "metadata": {},
   "outputs": [
    {
     "name": "stdout",
     "output_type": "stream",
     "text": [
      "elfloris\n"
     ]
    }
   ],
   "source": [
    "a = \"elfloris\"\n",
    "print (a)"
   ]
  },
  {
   "cell_type": "code",
   "execution_count": 15,
   "id": "8be4f0da",
   "metadata": {},
   "outputs": [
    {
     "data": {
      "text/plain": [
       "str"
      ]
     },
     "execution_count": 15,
     "metadata": {},
     "output_type": "execute_result"
    }
   ],
   "source": [
    "type(a)"
   ]
  },
  {
   "cell_type": "code",
   "execution_count": 16,
   "id": "ac2c475d",
   "metadata": {},
   "outputs": [
    {
     "name": "stdout",
     "output_type": "stream",
     "text": [
      "my love\n"
     ]
    }
   ],
   "source": [
    "c = \"my love\"\n",
    "print (c)"
   ]
  },
  {
   "cell_type": "code",
   "execution_count": 17,
   "id": "594886b2",
   "metadata": {},
   "outputs": [
    {
     "data": {
      "text/plain": [
       "str"
      ]
     },
     "execution_count": 17,
     "metadata": {},
     "output_type": "execute_result"
    }
   ],
   "source": [
    "type(c)"
   ]
  },
  {
   "cell_type": "code",
   "execution_count": 18,
   "id": "730a4984",
   "metadata": {},
   "outputs": [],
   "source": [
    "b = 21"
   ]
  },
  {
   "cell_type": "code",
   "execution_count": 19,
   "id": "db5ed325",
   "metadata": {},
   "outputs": [
    {
     "data": {
      "text/plain": [
       "int"
      ]
     },
     "execution_count": 19,
     "metadata": {},
     "output_type": "execute_result"
    }
   ],
   "source": [
    "type (b)"
   ]
  },
  {
   "cell_type": "code",
   "execution_count": 20,
   "id": "44a8ce97",
   "metadata": {},
   "outputs": [
    {
     "name": "stdout",
     "output_type": "stream",
     "text": [
      "5\n"
     ]
    }
   ],
   "source": [
    "a = 2\n",
    "b = 3 \n",
    "print(a + b)"
   ]
  },
  {
   "cell_type": "code",
   "execution_count": 21,
   "id": "6278799c",
   "metadata": {},
   "outputs": [
    {
     "data": {
      "text/plain": [
       "int"
      ]
     },
     "execution_count": 21,
     "metadata": {},
     "output_type": "execute_result"
    }
   ],
   "source": [
    "type(a + b)"
   ]
  },
  {
   "cell_type": "code",
   "execution_count": 22,
   "id": "0180f4ee",
   "metadata": {},
   "outputs": [
    {
     "name": "stdout",
     "output_type": "stream",
     "text": [
      "Berapakah jumlah uang kakak? 1000\n",
      "Berapakah jumlah uang adik? 2000\n",
      "Total uang kakaa dan adik adalah Rp 10002000\n"
     ]
    }
   ],
   "source": [
    "uang_kakak = input(\"Berapakah jumlah uang kakak? \")\n",
    "uang_adik = input(\"Berapakah jumlah uang adik? \")\n",
    "print(\"Total uang kakaa dan adik adalah Rp \" + uang_kakak + uang_adik)"
   ]
  },
  {
   "cell_type": "code",
   "execution_count": 23,
   "id": "db283b7d",
   "metadata": {},
   "outputs": [
    {
     "name": "stdout",
     "output_type": "stream",
     "text": [
      "Berapakah jumlah uang abang? 50000\n",
      "Berapakah jumlah uang kakak? 100000\n",
      "Total uang abang dan kakak adalah Rp 150000\n"
     ]
    }
   ],
   "source": [
    "uang_abang = input(\"Berapakah jumlah uang abang? \")\n",
    "uang_kakak = input(\"Berapakah jumlah uang kakak? \")\n",
    "total_uang = int(uang_abang) + int(uang_kakak)\n",
    "print(\"Total uang abang dan kakak adalah Rp \"+ str(total_uang))"
   ]
  },
  {
   "cell_type": "code",
   "execution_count": 24,
   "id": "aabda934",
   "metadata": {},
   "outputs": [
    {
     "data": {
      "text/plain": [
       "int"
      ]
     },
     "execution_count": 24,
     "metadata": {},
     "output_type": "execute_result"
    }
   ],
   "source": [
    "type(total_uang)"
   ]
  },
  {
   "cell_type": "code",
   "execution_count": 25,
   "id": "0bb47da5",
   "metadata": {},
   "outputs": [
    {
     "data": {
      "text/plain": [
       "str"
      ]
     },
     "execution_count": 25,
     "metadata": {},
     "output_type": "execute_result"
    }
   ],
   "source": [
    "type(uang_abang)"
   ]
  },
  {
   "cell_type": "code",
   "execution_count": 26,
   "id": "1fc91f3a",
   "metadata": {},
   "outputs": [
    {
     "name": "stdout",
     "output_type": "stream",
     "text": [
      "Masukkan bilangan pertama: 15\n",
      "Masukkan bilangan kedua: 5\n",
      "20.0\n"
     ]
    }
   ],
   "source": [
    "a = input(\"Masukkan bilangan pertama: \")\n",
    "b = input(\"Masukkan bilangan kedua: \")\n",
    "jumlah = float(a) + float(b)\n",
    "print(jumlah)"
   ]
  },
  {
   "cell_type": "code",
   "execution_count": 27,
   "id": "fa40f7c4",
   "metadata": {},
   "outputs": [
    {
     "name": "stdout",
     "output_type": "stream",
     "text": [
      "Siapakah nama anda? Elfloris Br Sitepu\n",
      "Tahun berapa anda lahir, Elfloris Br Sitepu? 2004\n",
      "Tahun berapa sekarang? 2022\n",
      "Umur anda sekarang adalah 18\n"
     ]
    }
   ],
   "source": [
    "nama = input(\"Siapakah nama anda? \")\n",
    "tahun_lahir = input(\"Tahun berapa anda lahir, \"+ nama +\"? \")\n",
    "tahun_sekarang = input(\"Tahun berapa sekarang? \")\n",
    "umur_sekarang = int(tahun_sekarang) - int(tahun_lahir)\n",
    "print(\"Umur anda sekarang adalah \"+ str(umur_sekarang))"
   ]
  },
  {
   "cell_type": "code",
   "execution_count": 28,
   "id": "b134f742",
   "metadata": {},
   "outputs": [
    {
     "data": {
      "text/plain": [
       "str"
      ]
     },
     "execution_count": 28,
     "metadata": {},
     "output_type": "execute_result"
    }
   ],
   "source": [
    "type(nama)"
   ]
  },
  {
   "cell_type": "markdown",
   "id": "5b849f63",
   "metadata": {},
   "source": [
    "LATIHAN: \n",
    "Buat program penjumlahan dua bilangan dengan menggunakan perintah input dan print."
   ]
  },
  {
   "cell_type": "code",
   "execution_count": 29,
   "id": "e95cb2ca",
   "metadata": {},
   "outputs": [
    {
     "name": "stdout",
     "output_type": "stream",
     "text": [
      "Masukkan bilangan pertama: 5\n",
      "Masukkan bilangan kedua: 3\n",
      "Jumlah kedua bilangan adalah 8.0\n"
     ]
    }
   ],
   "source": [
    "bilangan_satu = input(\"Masukkan bilangan pertama: \")\n",
    "bilangan_kedua = input(\"Masukkan bilangan kedua: \")\n",
    "jumlah = float(bilangan_satu) + float(bilangan_kedua)\n",
    "print(\"Jumlah kedua bilangan adalah \"+ str(jumlah))"
   ]
  },
  {
   "cell_type": "code",
   "execution_count": 30,
   "id": "fd004ed7",
   "metadata": {},
   "outputs": [
    {
     "name": "stdout",
     "output_type": "stream",
     "text": [
      "Masukkan bilangan pertama: 6\n",
      "Masukkan bilangan kedua: 15\n",
      "Jumlah kedua bilangan adalah 21.0\n"
     ]
    }
   ],
   "source": [
    "bilangan_satu = input(\"Masukkan bilangan pertama: \")\n",
    "bilangan_kedua = input(\"Masukkan bilangan kedua: \")\n",
    "jumlah = float(bilangan_satu) + float(bilangan_kedua)\n",
    "print(\"Jumlah kedua bilangan adalah \"+ str(jumlah))"
   ]
  },
  {
   "cell_type": "markdown",
   "id": "40f0e8c9",
   "metadata": {},
   "source": [
    "# 5.4 Formatted String"
   ]
  },
  {
   "cell_type": "code",
   "execution_count": 1,
   "id": "4b474922",
   "metadata": {},
   "outputs": [
    {
     "name": "stdout",
     "output_type": "stream",
     "text": [
      "Elfloris adalah seorang mahasiswa di Universitas Udayana.\n"
     ]
    }
   ],
   "source": [
    "nama = \"Elfloris\"\n",
    "pekerjaan = 'mahasiswa'\n",
    "institusi = 'Universitas Udayana'\n",
    "print(nama + ' adalah seorang ' + pekerjaan + ' di ' + institusi +'.')"
   ]
  },
  {
   "cell_type": "code",
   "execution_count": 2,
   "id": "e6e8b327",
   "metadata": {},
   "outputs": [
    {
     "name": "stdout",
     "output_type": "stream",
     "text": [
      "Elfloris adalah seorang mahasiswa di Universitas Udayana.\n"
     ]
    }
   ],
   "source": [
    "print(f'{nama} adalah seorang {pekerjaan} di {institusi}.')"
   ]
  },
  {
   "cell_type": "code",
   "execution_count": 3,
   "id": "806eaa02",
   "metadata": {},
   "outputs": [
    {
     "name": "stdout",
     "output_type": "stream",
     "text": [
      "Elfloris adalah seorang mahasiswa program studi matematika.\n"
     ]
    }
   ],
   "source": [
    "nama = \"Elfloris\"\n",
    "pekerjaan = 'mahasiswa'\n",
    "prodi = 'matematika'\n",
    "print(nama + ' adalah seorang ' + pekerjaan + ' program studi ' + prodi +'.')"
   ]
  },
  {
   "cell_type": "code",
   "execution_count": 5,
   "id": "93af2361",
   "metadata": {},
   "outputs": [
    {
     "name": "stdout",
     "output_type": "stream",
     "text": [
      "Elfloris adalah seorang mahasiswa program studi matematika.\n"
     ]
    }
   ],
   "source": [
    "print(f\"{nama} adalah seorang {pekerjaan} program studi {prodi}.\")"
   ]
  },
  {
   "cell_type": "code",
   "execution_count": 7,
   "id": "8f8f78b7",
   "metadata": {},
   "outputs": [
    {
     "name": "stdout",
     "output_type": "stream",
     "text": [
      "Elfloris adalah seorang mahasiswa program studi matematika di Universitas Udayana melalui jalur SNMPTN.\n"
     ]
    }
   ],
   "source": [
    "nama = \"Elfloris\"\n",
    "pekerjaan = 'mahasiswa'\n",
    "prodi = 'matematika'\n",
    "institusi = 'Universitas Udayana'\n",
    "jalur = 'SNMPTN'\n",
    "print(nama + ' adalah seorang ' + pekerjaan + ' program studi ' + prodi + ' di ' + institusi + ' melalui jalur ' + jalur +'.')"
   ]
  },
  {
   "cell_type": "code",
   "execution_count": 8,
   "id": "2474df6c",
   "metadata": {},
   "outputs": [
    {
     "name": "stdout",
     "output_type": "stream",
     "text": [
      "Elfloris adalah seorang mahasiswa program studi matematika di Universitas Udayana melalui jalur SNMPTN.\n"
     ]
    }
   ],
   "source": [
    "print(f'{nama} adalah seorang {pekerjaan} program studi {prodi} di {institusi} melalui jalur {jalur}.')"
   ]
  },
  {
   "cell_type": "markdown",
   "id": "bb79521a",
   "metadata": {},
   "source": [
    "# 5.5 Strings Index"
   ]
  },
  {
   "cell_type": "code",
   "execution_count": 9,
   "id": "0b00cc60",
   "metadata": {},
   "outputs": [],
   "source": [
    "kelas = 'mahasiswa matematika'"
   ]
  },
  {
   "cell_type": "code",
   "execution_count": 10,
   "id": "f5b49903",
   "metadata": {},
   "outputs": [
    {
     "name": "stdout",
     "output_type": "stream",
     "text": [
      "ma\n"
     ]
    }
   ],
   "source": [
    "print(kelas[0:2])"
   ]
  },
  {
   "cell_type": "code",
   "execution_count": 11,
   "id": "5a44e207",
   "metadata": {},
   "outputs": [
    {
     "name": "stdout",
     "output_type": "stream",
     "text": [
      "mahasiswa matemat\n"
     ]
    }
   ],
   "source": [
    "print(kelas[0:-3])"
   ]
  },
  {
   "cell_type": "code",
   "execution_count": 13,
   "id": "4d844226",
   "metadata": {},
   "outputs": [
    {
     "name": "stdout",
     "output_type": "stream",
     "text": [
      "hasiswa matematik\n"
     ]
    }
   ],
   "source": [
    "print(kelas[2:-1])"
   ]
  },
  {
   "cell_type": "code",
   "execution_count": 14,
   "id": "cb3f2d1f",
   "metadata": {},
   "outputs": [
    {
     "name": "stdout",
     "output_type": "stream",
     "text": [
      "awaa\n"
     ]
    }
   ],
   "source": [
    "print(kelas[3:-1:4])"
   ]
  },
  {
   "cell_type": "code",
   "execution_count": 15,
   "id": "c134214a",
   "metadata": {},
   "outputs": [
    {
     "name": "stdout",
     "output_type": "stream",
     "text": [
      "mahasiswa matematika\n"
     ]
    }
   ],
   "source": [
    "print(kelas[:])"
   ]
  },
  {
   "cell_type": "code",
   "execution_count": 16,
   "id": "f7e63c39",
   "metadata": {},
   "outputs": [
    {
     "name": "stdout",
     "output_type": "stream",
     "text": [
      "hasiswa matematika\n"
     ]
    }
   ],
   "source": [
    "print(kelas[2:])"
   ]
  },
  {
   "cell_type": "code",
   "execution_count": 29,
   "id": "4d13d438",
   "metadata": {},
   "outputs": [
    {
     "name": "stdout",
     "output_type": "stream",
     "text": [
      "atika\n"
     ]
    }
   ],
   "source": [
    "print(kelas[-5:])"
   ]
  },
  {
   "cell_type": "markdown",
   "id": "5ccb3207",
   "metadata": {},
   "source": [
    "# 5.6 Strings Methods"
   ]
  },
  {
   "cell_type": "code",
   "execution_count": 18,
   "id": "3ace1f1e",
   "metadata": {},
   "outputs": [],
   "source": [
    "kalimat = 'Matematika sangatlah Menyenangkan, bukan?'"
   ]
  },
  {
   "cell_type": "code",
   "execution_count": 19,
   "id": "1cffcc2e",
   "metadata": {},
   "outputs": [
    {
     "data": {
      "text/plain": [
       "'matematika sangatlah menyenangkan, bukan?'"
      ]
     },
     "execution_count": 19,
     "metadata": {},
     "output_type": "execute_result"
    }
   ],
   "source": [
    "kalimat.lower()"
   ]
  },
  {
   "cell_type": "code",
   "execution_count": 20,
   "id": "e6c04650",
   "metadata": {},
   "outputs": [
    {
     "data": {
      "text/plain": [
       "'MATEMATIKA SANGATLAH MENYENANGKAN, BUKAN?'"
      ]
     },
     "execution_count": 20,
     "metadata": {},
     "output_type": "execute_result"
    }
   ],
   "source": [
    "kalimat.upper()"
   ]
  },
  {
   "cell_type": "code",
   "execution_count": 21,
   "id": "6bce13ca",
   "metadata": {},
   "outputs": [
    {
     "name": "stdout",
     "output_type": "stream",
     "text": [
      "41\n"
     ]
    }
   ],
   "source": [
    "print(len(kalimat))"
   ]
  },
  {
   "cell_type": "code",
   "execution_count": 22,
   "id": "024fbeed",
   "metadata": {},
   "outputs": [
    {
     "data": {
      "text/plain": [
       "0"
      ]
     },
     "execution_count": 22,
     "metadata": {},
     "output_type": "execute_result"
    }
   ],
   "source": [
    "kalimat.find('Matematika')"
   ]
  },
  {
   "cell_type": "code",
   "execution_count": 23,
   "id": "a035d0bf",
   "metadata": {},
   "outputs": [
    {
     "data": {
      "text/plain": [
       "11"
      ]
     },
     "execution_count": 23,
     "metadata": {},
     "output_type": "execute_result"
    }
   ],
   "source": [
    "kalimat.find('sangatlah')"
   ]
  },
  {
   "cell_type": "code",
   "execution_count": 24,
   "id": "92654eb6",
   "metadata": {},
   "outputs": [
    {
     "data": {
      "text/plain": [
       "'Matematika tidaklah Menyenangkan, bukan?'"
      ]
     },
     "execution_count": 24,
     "metadata": {},
     "output_type": "execute_result"
    }
   ],
   "source": [
    "kalimat.replace('sangatlah', 'tidaklah')"
   ]
  },
  {
   "cell_type": "code",
   "execution_count": 25,
   "id": "274735c4",
   "metadata": {},
   "outputs": [
    {
     "data": {
      "text/plain": [
       "-1"
      ]
     },
     "execution_count": 25,
     "metadata": {},
     "output_type": "execute_result"
    }
   ],
   "source": [
    "kalimat.find('matematika')"
   ]
  },
  {
   "cell_type": "code",
   "execution_count": 26,
   "id": "413916f8",
   "metadata": {},
   "outputs": [
    {
     "name": "stdout",
     "output_type": "stream",
     "text": [
      "True\n"
     ]
    }
   ],
   "source": [
    "print('Menyenangkan' in kalimat)"
   ]
  },
  {
   "cell_type": "code",
   "execution_count": 27,
   "id": "cb0f8dbd",
   "metadata": {},
   "outputs": [
    {
     "name": "stdout",
     "output_type": "stream",
     "text": [
      "False\n"
     ]
    }
   ],
   "source": [
    "print('tidaklah' in kalimat)"
   ]
  },
  {
   "cell_type": "code",
   "execution_count": 28,
   "id": "99b2d266",
   "metadata": {},
   "outputs": [
    {
     "name": "stdout",
     "output_type": "stream",
     "text": [
      "True\n"
     ]
    }
   ],
   "source": [
    "print('Matematika' in kalimat)"
   ]
  },
  {
   "cell_type": "markdown",
   "id": "a79d1b69",
   "metadata": {},
   "source": [
    "# 5.7 Operasi Matematika di Python"
   ]
  },
  {
   "cell_type": "code",
   "execution_count": 30,
   "id": "7d21619a",
   "metadata": {},
   "outputs": [
    {
     "name": "stdout",
     "output_type": "stream",
     "text": [
      "5\n",
      "-1\n",
      "6\n",
      "2.3333333333333335\n",
      "2\n",
      "1\n",
      "8\n",
      "4\n",
      "2\n",
      "6\n"
     ]
    }
   ],
   "source": [
    "print(2+3)\n",
    "print(2-3)\n",
    "print(2*3)\n",
    "print(7/3)\n",
    "print(7//3)\n",
    "print(7%3)\n",
    "print(2**3)\n",
    "x=3\n",
    "x+=1\n",
    "print(x)\n",
    "x-=2\n",
    "print(x)\n",
    "x*=3\n",
    "print(x)"
   ]
  },
  {
   "cell_type": "code",
   "execution_count": 31,
   "id": "8a4f8d85",
   "metadata": {},
   "outputs": [
    {
     "name": "stdout",
     "output_type": "stream",
     "text": [
      "23\n"
     ]
    }
   ],
   "source": [
    "x=21\n",
    "x = x+2\n",
    "print(x)"
   ]
  },
  {
   "cell_type": "code",
   "execution_count": 32,
   "id": "d546fdf1",
   "metadata": {},
   "outputs": [
    {
     "name": "stdout",
     "output_type": "stream",
     "text": [
      "28\n"
     ]
    }
   ],
   "source": [
    "x = x+5\n",
    "print(x)"
   ]
  },
  {
   "cell_type": "code",
   "execution_count": 33,
   "id": "f012819b",
   "metadata": {},
   "outputs": [
    {
     "name": "stdout",
     "output_type": "stream",
     "text": [
      "26\n"
     ]
    }
   ],
   "source": [
    "x = x-2\n",
    "print(x)"
   ]
  },
  {
   "cell_type": "code",
   "execution_count": 34,
   "id": "bceddfdd",
   "metadata": {},
   "outputs": [
    {
     "name": "stdout",
     "output_type": "stream",
     "text": [
      "26\n"
     ]
    }
   ],
   "source": [
    "x*=1\n",
    "print(x)"
   ]
  },
  {
   "cell_type": "code",
   "execution_count": 35,
   "id": "76091fef",
   "metadata": {},
   "outputs": [
    {
     "name": "stdout",
     "output_type": "stream",
     "text": [
      "31\n"
     ]
    }
   ],
   "source": [
    "x+=5\n",
    "print(x)"
   ]
  },
  {
   "cell_type": "code",
   "execution_count": 36,
   "id": "39043e65",
   "metadata": {},
   "outputs": [
    {
     "name": "stdout",
     "output_type": "stream",
     "text": [
      "21\n"
     ]
    }
   ],
   "source": [
    "x-=10\n",
    "print(x)"
   ]
  },
  {
   "cell_type": "code",
   "execution_count": 37,
   "id": "9885caa1",
   "metadata": {},
   "outputs": [
    {
     "name": "stdout",
     "output_type": "stream",
     "text": [
      "3.0\n"
     ]
    }
   ],
   "source": [
    "x/=7\n",
    "print(x)"
   ]
  },
  {
   "cell_type": "code",
   "execution_count": 38,
   "id": "c13c1139",
   "metadata": {},
   "outputs": [
    {
     "name": "stdout",
     "output_type": "stream",
     "text": [
      "1.0\n"
     ]
    }
   ],
   "source": [
    "x//=2\n",
    "print(x)"
   ]
  },
  {
   "cell_type": "code",
   "execution_count": 39,
   "id": "9315d6bc",
   "metadata": {},
   "outputs": [
    {
     "name": "stdout",
     "output_type": "stream",
     "text": [
      "25\n"
     ]
    }
   ],
   "source": [
    "y=5\n",
    "y=y**2\n",
    "print(y)"
   ]
  },
  {
   "cell_type": "code",
   "execution_count": 40,
   "id": "c38c6a9a",
   "metadata": {},
   "outputs": [
    {
     "name": "stdout",
     "output_type": "stream",
     "text": [
      "0\n"
     ]
    }
   ],
   "source": [
    "y=y%5\n",
    "print(y)"
   ]
  },
  {
   "cell_type": "code",
   "execution_count": 41,
   "id": "77146450",
   "metadata": {},
   "outputs": [
    {
     "name": "stdout",
     "output_type": "stream",
     "text": [
      "0\n"
     ]
    }
   ],
   "source": [
    "y=y%100\n",
    "print(y)"
   ]
  },
  {
   "cell_type": "code",
   "execution_count": 42,
   "id": "44a81573",
   "metadata": {},
   "outputs": [
    {
     "name": "stdout",
     "output_type": "stream",
     "text": [
      "25\n"
     ]
    }
   ],
   "source": [
    "y=25\n",
    "y=y%100\n",
    "print(y)"
   ]
  },
  {
   "cell_type": "code",
   "execution_count": 43,
   "id": "0cb75750",
   "metadata": {},
   "outputs": [
    {
     "name": "stdout",
     "output_type": "stream",
     "text": [
      "12\n"
     ]
    }
   ],
   "source": [
    "y//=2\n",
    "print(y)"
   ]
  },
  {
   "cell_type": "code",
   "execution_count": 44,
   "id": "35512cf0",
   "metadata": {},
   "outputs": [
    {
     "name": "stdout",
     "output_type": "stream",
     "text": [
      "21\n"
     ]
    }
   ],
   "source": [
    "y=y+9\n",
    "print(y)"
   ]
  },
  {
   "cell_type": "code",
   "execution_count": 45,
   "id": "83eb9078",
   "metadata": {},
   "outputs": [
    {
     "name": "stdout",
     "output_type": "stream",
     "text": [
      "0\n"
     ]
    }
   ],
   "source": [
    "y%=3\n",
    "print(y)"
   ]
  },
  {
   "cell_type": "markdown",
   "id": "fd07aaf0",
   "metadata": {},
   "source": [
    "# 5.8 Operator Perbandingan di Python"
   ]
  },
  {
   "cell_type": "code",
   "execution_count": 1,
   "id": "666837fc",
   "metadata": {},
   "outputs": [
    {
     "name": "stdout",
     "output_type": "stream",
     "text": [
      "True\n",
      "True\n",
      "True\n",
      "True\n",
      "True\n",
      "True\n"
     ]
    }
   ],
   "source": [
    "x = 3>2\n",
    "print(x)\n",
    "x = 2<3\n",
    "print(x)\n",
    "x = 3 >= 2\n",
    "print(x)\n",
    "x = 2 <= 3\n",
    "print(x)\n",
    "x = 3 == 3\n",
    "print(x)\n",
    "x = 3 != 4\n",
    "print(x)"
   ]
  },
  {
   "cell_type": "code",
   "execution_count": 2,
   "id": "03b1fa25",
   "metadata": {},
   "outputs": [
    {
     "name": "stdout",
     "output_type": "stream",
     "text": [
      "False\n",
      "False\n"
     ]
    }
   ],
   "source": [
    "y = 5<3\n",
    "print(y)\n",
    "y = 4>5\n",
    "print(y)"
   ]
  },
  {
   "cell_type": "code",
   "execution_count": 3,
   "id": "06bd7728",
   "metadata": {},
   "outputs": [
    {
     "name": "stdout",
     "output_type": "stream",
     "text": [
      "True\n",
      "True\n",
      "True\n"
     ]
    }
   ],
   "source": [
    "el = 21 == 21\n",
    "print(el)\n",
    "ch = 1 != 2\n",
    "print(ch)\n",
    "elchris = 75 <= 100\n",
    "print(elchris)"
   ]
  },
  {
   "cell_type": "code",
   "execution_count": 4,
   "id": "68a882d5",
   "metadata": {},
   "outputs": [
    {
     "name": "stdout",
     "output_type": "stream",
     "text": [
      "True\n",
      "False\n",
      "True\n",
      "False\n"
     ]
    }
   ],
   "source": [
    "a = 7 >= 2\n",
    "print(a)\n",
    "b = 4 == 2\n",
    "print(b)\n",
    "c = 3 <= 5\n",
    "print(c)\n",
    "d = 8 != 8\n",
    "print(d)"
   ]
  },
  {
   "cell_type": "code",
   "execution_count": 5,
   "id": "59db4e94",
   "metadata": {},
   "outputs": [
    {
     "name": "stdout",
     "output_type": "stream",
     "text": [
      "False\n"
     ]
    }
   ],
   "source": [
    "elflo = 2022 < 2004\n",
    "print(elflo)"
   ]
  },
  {
   "cell_type": "code",
   "execution_count": 6,
   "id": "94bf45a2",
   "metadata": {},
   "outputs": [
    {
     "name": "stdout",
     "output_type": "stream",
     "text": [
      "True\n"
     ]
    }
   ],
   "source": [
    "flo = 2004 <= 2022\n",
    "print(flo)"
   ]
  },
  {
   "cell_type": "code",
   "execution_count": 7,
   "id": "0dd271f3",
   "metadata": {},
   "outputs": [
    {
     "name": "stdout",
     "output_type": "stream",
     "text": [
      "True\n"
     ]
    }
   ],
   "source": [
    "nim = 2108541037 == 2108541037\n",
    "print(nim)"
   ]
  },
  {
   "cell_type": "code",
   "execution_count": 8,
   "id": "4b38c41a",
   "metadata": {},
   "outputs": [
    {
     "name": "stdout",
     "output_type": "stream",
     "text": [
      "False\n"
     ]
    }
   ],
   "source": [
    "ris = 8541 != 8541\n",
    "print(ris)"
   ]
  },
  {
   "cell_type": "code",
   "execution_count": 9,
   "id": "eeed2458",
   "metadata": {},
   "outputs": [
    {
     "name": "stdout",
     "output_type": "stream",
     "text": [
      "True\n"
     ]
    }
   ],
   "source": [
    "stp = 8541 != 8543\n",
    "print(stp)"
   ]
  },
  {
   "cell_type": "code",
   "execution_count": 10,
   "id": "2462aea8",
   "metadata": {},
   "outputs": [
    {
     "name": "stdout",
     "output_type": "stream",
     "text": [
      "False\n"
     ]
    }
   ],
   "source": [
    "ch = 21 <= 12\n",
    "print(ch)"
   ]
  },
  {
   "cell_type": "markdown",
   "id": "12389b7e",
   "metadata": {},
   "source": [
    "# 5.9 Operator Logika di Python"
   ]
  },
  {
   "cell_type": "code",
   "execution_count": 11,
   "id": "fa423d4d",
   "metadata": {},
   "outputs": [
    {
     "name": "stdout",
     "output_type": "stream",
     "text": [
      "True\n"
     ]
    }
   ],
   "source": [
    "apel = 15\n",
    "anggur = 25\n",
    "print(apel > 10 and anggur < 50)"
   ]
  },
  {
   "cell_type": "code",
   "execution_count": 12,
   "id": "fb4c10f0",
   "metadata": {},
   "outputs": [
    {
     "name": "stdout",
     "output_type": "stream",
     "text": [
      "True\n"
     ]
    }
   ],
   "source": [
    "print(apel < 10 or anggur < 50)"
   ]
  },
  {
   "cell_type": "code",
   "execution_count": 13,
   "id": "80a45a5a",
   "metadata": {},
   "outputs": [
    {
     "name": "stdout",
     "output_type": "stream",
     "text": [
      "False\n"
     ]
    }
   ],
   "source": [
    "print(apel < 10 or anggur > 50)"
   ]
  },
  {
   "cell_type": "code",
   "execution_count": 14,
   "id": "b7b2c0b8",
   "metadata": {},
   "outputs": [
    {
     "name": "stdout",
     "output_type": "stream",
     "text": [
      "True\n"
     ]
    }
   ],
   "source": [
    "print(not (apel < 10 or anggur > 50))"
   ]
  },
  {
   "cell_type": "code",
   "execution_count": 15,
   "id": "15c8f5cf",
   "metadata": {},
   "outputs": [
    {
     "name": "stdout",
     "output_type": "stream",
     "text": [
      "False\n"
     ]
    }
   ],
   "source": [
    "print(not (apel > 10 or anggur < 50))"
   ]
  },
  {
   "cell_type": "code",
   "execution_count": 16,
   "id": "afa031e6",
   "metadata": {},
   "outputs": [
    {
     "name": "stdout",
     "output_type": "stream",
     "text": [
      "True\n"
     ]
    }
   ],
   "source": [
    "print(apel > 10 or anggur < 50)"
   ]
  },
  {
   "cell_type": "code",
   "execution_count": 17,
   "id": "9d32f7b3",
   "metadata": {},
   "outputs": [
    {
     "name": "stdout",
     "output_type": "stream",
     "text": [
      "False\n"
     ]
    }
   ],
   "source": [
    "elflo = 18\n",
    "chris = 19\n",
    "print(elflo < 20 and chris > 20)"
   ]
  },
  {
   "cell_type": "code",
   "execution_count": 18,
   "id": "49e96192",
   "metadata": {},
   "outputs": [
    {
     "name": "stdout",
     "output_type": "stream",
     "text": [
      "True\n"
     ]
    }
   ],
   "source": [
    "print(elflo < chris)"
   ]
  },
  {
   "cell_type": "code",
   "execution_count": 19,
   "id": "524ee183",
   "metadata": {},
   "outputs": [
    {
     "name": "stdout",
     "output_type": "stream",
     "text": [
      "True\n"
     ]
    }
   ],
   "source": [
    "print(elflo > 20 or chris < 20)"
   ]
  },
  {
   "cell_type": "code",
   "execution_count": 20,
   "id": "90f2b77a",
   "metadata": {},
   "outputs": [
    {
     "name": "stdout",
     "output_type": "stream",
     "text": [
      "True\n"
     ]
    }
   ],
   "source": [
    "print(elflo <= chris)"
   ]
  },
  {
   "cell_type": "code",
   "execution_count": 21,
   "id": "3968c6b2",
   "metadata": {},
   "outputs": [
    {
     "name": "stdout",
     "output_type": "stream",
     "text": [
      "False\n"
     ]
    }
   ],
   "source": [
    "print(not (elflo < 15 or chris < 20))"
   ]
  },
  {
   "cell_type": "code",
   "execution_count": 22,
   "id": "80e7212b",
   "metadata": {},
   "outputs": [
    {
     "name": "stdout",
     "output_type": "stream",
     "text": [
      "True\n"
     ]
    }
   ],
   "source": [
    "print(not (elflo < 15 or chris > 20))"
   ]
  },
  {
   "cell_type": "code",
   "execution_count": 23,
   "id": "71dfe574",
   "metadata": {},
   "outputs": [
    {
     "name": "stdout",
     "output_type": "stream",
     "text": [
      "True\n"
     ]
    }
   ],
   "source": [
    "print(elflo < chris and chris > elflo)"
   ]
  },
  {
   "cell_type": "code",
   "execution_count": 24,
   "id": "1a2c8876",
   "metadata": {},
   "outputs": [
    {
     "name": "stdout",
     "output_type": "stream",
     "text": [
      "False\n"
     ]
    }
   ],
   "source": [
    "print(elflo == chris and chris != elflo)"
   ]
  },
  {
   "cell_type": "code",
   "execution_count": 25,
   "id": "ff01609e",
   "metadata": {},
   "outputs": [
    {
     "name": "stdout",
     "output_type": "stream",
     "text": [
      "False\n"
     ]
    }
   ],
   "source": [
    "print(elflo >= chris and chris <= elflo)"
   ]
  },
  {
   "cell_type": "code",
   "execution_count": 26,
   "id": "16b67082",
   "metadata": {},
   "outputs": [
    {
     "name": "stdout",
     "output_type": "stream",
     "text": [
      "True\n"
     ]
    }
   ],
   "source": [
    "print(not (elflo >= chris and chris <= elflo))"
   ]
  },
  {
   "cell_type": "code",
   "execution_count": 27,
   "id": "4fbca7e2",
   "metadata": {},
   "outputs": [
    {
     "name": "stdout",
     "output_type": "stream",
     "text": [
      "True\n"
     ]
    }
   ],
   "source": [
    "print(not (elflo == chris and chris == elflo))"
   ]
  },
  {
   "cell_type": "code",
   "execution_count": 28,
   "id": "5bebc366",
   "metadata": {},
   "outputs": [
    {
     "name": "stdout",
     "output_type": "stream",
     "text": [
      "True\n"
     ]
    }
   ],
   "source": [
    "print(elflo != chris)"
   ]
  },
  {
   "cell_type": "markdown",
   "id": "601e6da0",
   "metadata": {},
   "source": [
    "# 5.10 Operator if di Python"
   ]
  },
  {
   "cell_type": "code",
   "execution_count": 29,
   "id": "ddcee17a",
   "metadata": {},
   "outputs": [
    {
     "name": "stdout",
     "output_type": "stream",
     "text": [
      "Nilai Elfloris adalah 90\n",
      "Elfloris mendapatkan nilai A\n",
      "Excellent, selamat ya!\n"
     ]
    }
   ],
   "source": [
    "nilai = float(input(\"Nilai Elfloris adalah \"))\n",
    "if nilai >= 80:\n",
    "    print(\"Elfloris mendapatkan nilai A\")\n",
    "    print(\"Excellent, selamat ya!\")\n",
    "if nilai < 80 and nilai >= 70:\n",
    "    print(\"Elfloris mendapatkan nilai B\")\n",
    "    print(\"Lebih ditingkatkan lagi ya!\")\n",
    "if nilai >= 60 and nilai < 70:\n",
    "    print(\"Elfloris mendapatkan nilai C\")\n",
    "    print(\"Lain kali lebih baik lagi\")\n",
    "if nilai >= 50 and nilai < 60:\n",
    "    print(\"Elfloris mendapatkan nilai D\")\n",
    "    print(\"Ulang lagi tahun depan\")\n",
    "if nilai < 50:\n",
    "    print(\"Elfloris mendapatkan nilai E\")\n",
    "    print(\"Sampai jumpa tahun depan\")"
   ]
  },
  {
   "cell_type": "code",
   "execution_count": 30,
   "id": "f13c9070",
   "metadata": {},
   "outputs": [
    {
     "name": "stdout",
     "output_type": "stream",
     "text": [
      "Nilai Elfloris adalah 95\n",
      "Elfloris mendapatkan nilai A\n",
      "Excellent, selamat ya!\n"
     ]
    }
   ],
   "source": [
    "nilai = float(input(\"Nilai Elfloris adalah \"))\n",
    "if nilai >= 80:\n",
    "    print(\"Elfloris mendapatkan nilai A\")\n",
    "    print(\"Excellent, selamat ya!\")\n",
    "elif nilai >= 70:\n",
    "    print(\"Elfloris mendapatkan nilai B\")\n",
    "    print(\"Lebih ditingkatkan lagi ya!\")\n",
    "elif nilai >= 60:\n",
    "    print(\"Elfloris mendapatkan nilai C\")\n",
    "    print(\"Lain kali lebih baik lagi\")\n",
    "elif nilai >= 50:\n",
    "    print(\"Elfloris mendapatkan nilai D\")\n",
    "    print(\"Ulang lagi tahun depan\")\n",
    "else:\n",
    "    print(\"Elfloris mendapatkan nilai E\")\n",
    "    print(\"Sampai jumpa tahun depan\")"
   ]
  },
  {
   "cell_type": "code",
   "execution_count": 31,
   "id": "af892e05",
   "metadata": {},
   "outputs": [
    {
     "name": "stdout",
     "output_type": "stream",
     "text": [
      "Nilai Elfloris adalah 75\n",
      "Elfloris mendapatkan nilai B\n",
      "Lebih ditingkatkan lagi ya!\n"
     ]
    }
   ],
   "source": [
    "nilai = float(input(\"Nilai Elfloris adalah \"))\n",
    "if nilai >= 80:\n",
    "    print(\"Elfloris mendapatkan nilai A\")\n",
    "    print(\"Excellent, selamat ya!\")\n",
    "elif nilai >= 70:\n",
    "    print(\"Elfloris mendapatkan nilai B\")\n",
    "    print(\"Lebih ditingkatkan lagi ya!\")\n",
    "elif nilai >= 60:\n",
    "    print(\"Elfloris mendapatkan nilai C\")\n",
    "    print(\"Lain kali lebih baik lagi\")\n",
    "elif nilai >= 50:\n",
    "    print(\"Elfloris mendapatkan nilai D\")\n",
    "    print(\"Ulang lagi tahun depan\")\n",
    "else:\n",
    "    print(\"Elfloris mendapatkan nilai E\")\n",
    "    print(\"Sampai jumpa tahun depan\")"
   ]
  },
  {
   "cell_type": "code",
   "execution_count": 32,
   "id": "52904ab0",
   "metadata": {},
   "outputs": [
    {
     "name": "stdout",
     "output_type": "stream",
     "text": [
      "Nilai anda adalah 88\n",
      "Anda mendapatkan nilai A\n",
      "Wah, bagus sekali selamat ya!\n"
     ]
    }
   ],
   "source": [
    "nilai = float(input(\"Nilai anda adalah \"))\n",
    "if nilai >=80: \n",
    "    print(\"Anda mendapatkan nilai A\")\n",
    "    print(\"Wah, bagus sekali selamat ya!\")\n"
   ]
  },
  {
   "cell_type": "code",
   "execution_count": 34,
   "id": "83a9e949",
   "metadata": {},
   "outputs": [
    {
     "name": "stdout",
     "output_type": "stream",
     "text": [
      "Umur anda adalah 18\n",
      "Anda sudah dewasa\n",
      "Lakukan yang terbaik\n",
      "Anda masih remaja\n",
      "Jangan pacaran ya\n"
     ]
    }
   ],
   "source": [
    "nilai = float(input(\"Umur anda adalah \"))\n",
    "if nilai >= 21:\n",
    "    print(\"Anda sudah tua\")\n",
    "    print(\"Nikah sanaa haha\")\n",
    "if nilai >= 17:\n",
    "    print(\"Anda sudah dewasa\")\n",
    "    print(\"Lakukan yang terbaik\")\n",
    "if nilai >= 12:\n",
    "    print(\"Anda masih remaja\")\n",
    "    print(\"Jangan pacaran ya\")\n",
    "if nilai <= 5:\n",
    "    print(\"Anda masih anak anak\")\n",
    "    print(\"Rajin belajar ya\")"
   ]
  },
  {
   "cell_type": "code",
   "execution_count": 36,
   "id": "0e758aab",
   "metadata": {},
   "outputs": [
    {
     "name": "stdout",
     "output_type": "stream",
     "text": [
      "Umur anda adalah 14\n",
      "Anda masih remaja\n",
      "Jangan pacaran ya\n"
     ]
    }
   ],
   "source": [
    "nilai = float(input(\"Umur anda adalah \"))\n",
    "if nilai >= 21:\n",
    "    print(\"Anda sudah tua\")\n",
    "    print(\"Nikah sanaa haha\")\n",
    "if nilai >= 17:\n",
    "    print(\"Anda sudah dewasa\")\n",
    "    print(\"Lakukan yang terbaik\")\n",
    "if nilai >= 12:\n",
    "    print(\"Anda masih remaja\")\n",
    "    print(\"Jangan pacaran ya\")\n",
    "if nilai <= 5:\n",
    "    print(\"Anda masih anak anak\")\n",
    "    print(\"Rajin belajar ya\")"
   ]
  },
  {
   "cell_type": "markdown",
   "id": "eee2fd46",
   "metadata": {},
   "source": [
    "LATIHAN: Buatlah program yang merubah tinggi badan seseorang dari cm ke inci atau sebaliknya dari inci ke cm."
   ]
  },
  {
   "cell_type": "code",
   "execution_count": 37,
   "id": "f4b0e7a7",
   "metadata": {},
   "outputs": [
    {
     "name": "stdout",
     "output_type": "stream",
     "text": [
      "Berapakah tinggi anda? 175\n",
      "Tingginya dalam cm atau inci? cm\n",
      "Tinggi anda adalah 68.897675 inci\n"
     ]
    }
   ],
   "source": [
    "tinggi = float(input(\"Berapakah tinggi anda? \"))\n",
    "cm_atau_inci = input(\"Tingginya dalam cm atau inci? \")\n",
    "\n",
    "if cm_atau_inci.upper() == 'CM':\n",
    "    tinggi = tinggi*0.393701\n",
    "    print(\"Tinggi anda adalah \" + str(tinggi) + \" inci\")\n",
    "elif cm_atau_inci.upper() == 'INCI':\n",
    "    tinggi = tinggi/0.393701\n",
    "    print(f\"Tinggi anda adalah {tinggi} cm\")"
   ]
  },
  {
   "cell_type": "code",
   "execution_count": 38,
   "id": "29a6e198",
   "metadata": {},
   "outputs": [
    {
     "name": "stdout",
     "output_type": "stream",
     "text": [
      "Berapakah tinggi anda? 64.960665\n",
      "Tingginya dalam cm atau inci? inci\n",
      "Tinggi anda adalah 165.0 cm\n"
     ]
    }
   ],
   "source": [
    "tinggi = float(input(\"Berapakah tinggi anda? \"))\n",
    "cm_atau_inci = input(\"Tingginya dalam cm atau inci? \")\n",
    "\n",
    "if cm_atau_inci.upper() == 'CM':\n",
    "    tinggi = tinggi*0.393701\n",
    "    print(\"Tinggi anda adalah \" + str(tinggi) + \" inci\")\n",
    "elif cm_atau_inci.upper() == 'INCI':\n",
    "    tinggi = tinggi/0.393701\n",
    "    print(f\"Tinggi anda adalah {tinggi} cm\")"
   ]
  },
  {
   "cell_type": "code",
   "execution_count": 39,
   "id": "d01dc4b8",
   "metadata": {},
   "outputs": [
    {
     "name": "stdout",
     "output_type": "stream",
     "text": [
      "Berapakah tinggi Chris? 180\n",
      "Tingginya dalam cm atau inci? cm\n",
      "Tinggi Chris adalah 70.86618 inci\n"
     ]
    }
   ],
   "source": [
    "tinggi = float(input(\"Berapakah tinggi Chris? \"))\n",
    "cm_atau_inci = input(\"Tingginya dalam cm atau inci? \")\n",
    "\n",
    "if cm_atau_inci.upper() == 'CM':\n",
    "    tinggi = tinggi*0.393701\n",
    "    print(\"Tinggi Chris adalah \" + str(tinggi) + \" inci\")\n",
    "elif cm_atau_inci.upper() == 'INCI':\n",
    "    tinggi = tinggi/0.393701\n",
    "    print(f\"Tinggi Chris adalah {tinggi} cm\")"
   ]
  },
  {
   "cell_type": "code",
   "execution_count": 40,
   "id": "71cbd424",
   "metadata": {},
   "outputs": [
    {
     "name": "stdout",
     "output_type": "stream",
     "text": [
      "Berapakah tinggi Elflo? 170\n",
      "Tingginya dalam cm atau inci? cm\n",
      "Tinggi Elflo adalah 66.92917 inci\n"
     ]
    }
   ],
   "source": [
    "tinggi = float(input(\"Berapakah tinggi Elflo? \"))\n",
    "cm_atau_inci = input(\"Tingginya dalam cm atau inci? \")\n",
    "\n",
    "if cm_atau_inci.upper() == 'CM':\n",
    "    tinggi = tinggi*0.393701\n",
    "    print(\"Tinggi Elflo adalah \" + str(tinggi) + \" inci\")\n",
    "elif cm_atau_inci.upper() == 'INCI':\n",
    "    tinggi = tinggi/0.393701\n",
    "    print(f\"Tinggi Elflo adalah {tinggi} cm\")"
   ]
  },
  {
   "cell_type": "code",
   "execution_count": 41,
   "id": "9dbfb768",
   "metadata": {},
   "outputs": [
    {
     "name": "stdout",
     "output_type": "stream",
     "text": [
      "Berapakah tinggi Elflo? 67.716572\n",
      "Tingginya dalam cm atau inci? inci\n",
      "Tinggi Elflo adalah 172.0 cm\n"
     ]
    }
   ],
   "source": [
    "tinggi = float(input(\"Berapakah tinggi Elflo? \"))\n",
    "cm_atau_inci = input(\"Tingginya dalam cm atau inci? \")\n",
    "\n",
    "if cm_atau_inci.upper() == 'CM':\n",
    "    tinggi = tinggi*0.393701\n",
    "    print(\"Tinggi Elflo adalah \" + str(tinggi) + \" inci\")\n",
    "elif cm_atau_inci.upper() == 'INCI':\n",
    "    tinggi = tinggi/0.393701\n",
    "    print(f\"Tinggi Elflo adalah {tinggi} cm\")"
   ]
  },
  {
   "cell_type": "markdown",
   "id": "4ff3c903",
   "metadata": {},
   "source": [
    "# 5.11 While loop"
   ]
  },
  {
   "cell_type": "code",
   "execution_count": 42,
   "id": "61fc2940",
   "metadata": {},
   "outputs": [
    {
     "name": "stdout",
     "output_type": "stream",
     "text": [
      "Angka 0 masih dibawah 8\n",
      "Angka 1 masih dibawah 8\n",
      "Angka 2 masih dibawah 8\n",
      "Angka 3 masih dibawah 8\n",
      "Angka 4 masih dibawah 8\n",
      "Angka 5 masih dibawah 8\n",
      "Angka 6 masih dibawah 8\n",
      "Angka 7 masih dibawah 8\n"
     ]
    }
   ],
   "source": [
    "a = 0\n",
    "while a < 8:\n",
    "    print(\"Angka \" + str(a)+\" masih dibawah 8\")\n",
    "    a += 1"
   ]
  },
  {
   "cell_type": "code",
   "execution_count": 43,
   "id": "e0852e7a",
   "metadata": {},
   "outputs": [
    {
     "name": "stdout",
     "output_type": "stream",
     "text": [
      "Angka 5 sudah diatas 2\n",
      "Angka 4 sudah diatas 2\n",
      "Angka 3 sudah diatas 2\n"
     ]
    }
   ],
   "source": [
    "a = 5\n",
    "while a > 2:\n",
    "    print(\"Angka \" + str(a)+\" sudah diatas 2\")\n",
    "    a -= 1"
   ]
  },
  {
   "cell_type": "code",
   "execution_count": 44,
   "id": "178fa901",
   "metadata": {},
   "outputs": [
    {
     "name": "stdout",
     "output_type": "stream",
     "text": [
      "\n",
      "*\n",
      "**\n",
      "***\n",
      "****\n",
      "*****\n",
      "******\n",
      "*******\n"
     ]
    }
   ],
   "source": [
    "a = 0\n",
    "while a < 8:\n",
    "    print(a * '*')\n",
    "    a += 1"
   ]
  },
  {
   "cell_type": "code",
   "execution_count": 45,
   "id": "84696a76",
   "metadata": {},
   "outputs": [
    {
     "name": "stdout",
     "output_type": "stream",
     "text": [
      "\n",
      ".\n",
      "..\n",
      "...\n",
      "....\n",
      ".....\n",
      "......\n",
      ".......\n",
      "........\n",
      ".........\n"
     ]
    }
   ],
   "source": [
    "a = 0\n",
    "while a < 10:\n",
    "    print(a * '.')\n",
    "    a += 1"
   ]
  },
  {
   "cell_type": "code",
   "execution_count": 46,
   "id": "ead2668c",
   "metadata": {},
   "outputs": [
    {
     "name": "stdout",
     "output_type": "stream",
     "text": [
      "\n",
      "^\n",
      "^^\n",
      "^^^\n",
      "^^^^\n",
      "^^^^^\n"
     ]
    }
   ],
   "source": [
    "b = 0\n",
    "while b < 6:\n",
    "    print(b * '^')\n",
    "    b += 1"
   ]
  },
  {
   "cell_type": "code",
   "execution_count": 48,
   "id": "043ff329",
   "metadata": {},
   "outputs": [
    {
     "name": "stdout",
     "output_type": "stream",
     "text": [
      "1Elfloris dengan nim 037\n",
      "2Elfloris dengan nim 037\n",
      "3Elfloris dengan nim 037\n"
     ]
    }
   ],
   "source": [
    "c = 1\n",
    "while c <= 3:\n",
    "    print(str(c) + \"Elfloris\" + \" dengan nim 037\")\n",
    "    c += 1"
   ]
  },
  {
   "cell_type": "code",
   "execution_count": 1,
   "id": "18634886",
   "metadata": {},
   "outputs": [
    {
     "name": "stdout",
     "output_type": "stream",
     "text": [
      "1I LOVE YOU\n",
      "2I LOVE YOU\n",
      "3I LOVE YOU\n",
      "4I LOVE YOU\n",
      "5I LOVE YOU\n",
      "6I LOVE YOU\n",
      "7I LOVE YOU\n",
      "8I LOVE YOU\n",
      "9I LOVE YOU\n"
     ]
    }
   ],
   "source": [
    "e = 1\n",
    "while e < 10:\n",
    "    print(str(e) + \"I\" + \" LOVE YOU\")\n",
    "    e += 1"
   ]
  },
  {
   "cell_type": "code",
   "execution_count": null,
   "id": "7dd5fbc3",
   "metadata": {},
   "outputs": [],
   "source": []
  }
 ],
 "metadata": {
  "kernelspec": {
   "display_name": "Python 3 (ipykernel)",
   "language": "python",
   "name": "python3"
  },
  "language_info": {
   "codemirror_mode": {
    "name": "ipython",
    "version": 3
   },
   "file_extension": ".py",
   "mimetype": "text/x-python",
   "name": "python",
   "nbconvert_exporter": "python",
   "pygments_lexer": "ipython3",
   "version": "3.9.7"
  }
 },
 "nbformat": 4,
 "nbformat_minor": 5
}
